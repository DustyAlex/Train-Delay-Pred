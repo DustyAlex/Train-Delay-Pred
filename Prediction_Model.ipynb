{
  "nbformat": 4,
  "nbformat_minor": 5,
  "metadata": {
    "colab": {
      "provenance": [],
      "include_colab_link": true
    },
    "kernelspec": {
      "display_name": "Python 3",
      "language": "python",
      "name": "python3"
    },
    "language_info": {
      "codemirror_mode": {
        "name": "ipython",
        "version": 3
      },
      "file_extension": ".py",
      "mimetype": "text/x-python",
      "name": "python",
      "nbconvert_exporter": "python",
      "pygments_lexer": "ipython3",
      "version": "3.8.5"
    }
  },
  "cells": [
    {
      "cell_type": "markdown",
      "metadata": {
        "id": "view-in-github",
        "colab_type": "text"
      },
      "source": [
        "<a href=\"https://colab.research.google.com/github/DustyAlex/Train-Delay-Pred/blob/main/Prediction_Model.ipynb\" target=\"_parent\"><img src=\"https://colab.research.google.com/assets/colab-badge.svg\" alt=\"Open In Colab\"/></a>"
      ]
    },
    {
      "cell_type": "markdown",
      "metadata": {
        "id": "atlantic-horizontal"
      },
      "source": [
        "# Importing modules and libraries"
      ],
      "id": "atlantic-horizontal"
    },
    {
      "cell_type": "code",
      "metadata": {
        "id": "improved-optimum"
      },
      "source": [
        "# Data manipulation and visualization\n",
        "\n",
        "import pandas as pd\n",
        "import numpy as np\n",
        "import matplotlib.pyplot as plt\n",
        "import seaborn as sns\n",
        "\n",
        "# Machine Learning Models and metrics\n",
        "\n",
        "from sklearn.ensemble import RandomForestRegressor\n",
        "from xgboost import XGBRegressor\n",
        "from sklearn.metrics import mean_squared_error\n",
        "from sklearn.decomposition import PCA\n",
        "from sklearn.ensemble import GradientBoostingRegressor\n",
        "from sklearn.linear_model import LinearRegression\n",
        "\n",
        "# Preprocessing and utilities\n",
        "\n",
        "from sklearn.preprocessing import StandardScaler\n",
        "from sklearn.model_selection import train_test_split\n",
        "from sklearn.model_selection import GridSearchCV\n",
        "from sklearn.model_selection import cross_val_score\n",
        "from sklearn.model_selection import RandomizedSearchCV\n",
        "\n",
        "\n",
        "\n",
        "%matplotlib inline"
      ],
      "id": "improved-optimum",
      "execution_count": 2,
      "outputs": []
    },
    {
      "cell_type": "markdown",
      "metadata": {
        "id": "latest-priority"
      },
      "source": [
        "# Reading dataset from DataCamp GitHub url"
      ],
      "id": "latest-priority"
    },
    {
      "cell_type": "code",
      "metadata": {
        "id": "moral-content"
      },
      "source": [
        "# Loading dataframe\n",
        "\n",
        "df=pd.read_csv('https://raw.githubusercontent.com/DustyAlex/Train-Delay-Pred/main/Train_Timings.csv',delimiter=';')"
      ],
      "id": "moral-content",
      "execution_count": 3,
      "outputs": []
    },
    {
      "cell_type": "markdown",
      "metadata": {
        "id": "administrative-shopper"
      },
      "source": [
        "# General Statistics"
      ],
      "id": "administrative-shopper"
    },
    {
      "cell_type": "code",
      "metadata": {
        "id": "binding-visiting",
        "outputId": "ef18042c-25e5-4dd7-e277-5bc7858df540",
        "colab": {
          "base_uri": "https://localhost:8080/",
          "height": 441
        }
      },
      "source": [
        "# Exploring first rows from dataset\n",
        "\n",
        "df.head()"
      ],
      "id": "binding-visiting",
      "execution_count": 4,
      "outputs": [
        {
          "output_type": "execute_result",
          "data": {
            "text/plain": [
              "  Date of departure  Train number Relation Railway operator Departure line  \\\n",
              "0        2021-02-22          2528    IC 17        SNCB/NMBS            161   \n",
              "1        2021-02-22          2528    IC 17        SNCB/NMBS             26   \n",
              "2        2021-02-22          2528    IC 17        SNCB/NMBS             36   \n",
              "3        2021-02-22          2528    IC 17        SNCB/NMBS             36   \n",
              "4        2021-02-22          1487   L A4-1        SNCB/NMBS             59   \n",
              "\n",
              "  Actual arrival time Actual departure time Planned arrival time  \\\n",
              "0            08:13:25              08:13:25             08:10:00   \n",
              "1            08:31:12              08:31:12             08:30:00   \n",
              "2            08:38:34              08:38:34             08:38:00   \n",
              "3            08:39:35              08:39:35             08:39:00   \n",
              "4            16:41:36              16:42:06             16:42:00   \n",
              "\n",
              "  Planned departure time  Delay at arrival  Delay at departure  \\\n",
              "0               08:10:00             205.0               205.0   \n",
              "1               08:30:00              72.0                72.0   \n",
              "2               08:38:00              34.0                34.0   \n",
              "3               08:39:00              35.0                35.0   \n",
              "4               16:42:00             -24.0                 6.0   \n",
              "\n",
              "                             Relation direction Stopping place Arrival line  \\\n",
              "0  IC 17: DINANT -> BRUSSELS AIRPORT - ZAVENTEM    GROENENDAAL          161   \n",
              "1  IC 17: DINANT -> BRUSSELS AIRPORT - ZAVENTEM          EVERE           26   \n",
              "2  IC 17: DINANT -> BRUSSELS AIRPORT - ZAVENTEM         DIEGEM           36   \n",
              "3  IC 17: DINANT -> BRUSSELS AIRPORT - ZAVENTEM       ZAVENTEM           36   \n",
              "4    L A4-1: SINT-NIKLAAS -> ANTWERPEN-CENTRAAL  BEVEREN(WAAS)           59   \n",
              "\n",
              "  Planned arrival date Planned departure date Actual arrival date  \\\n",
              "0  2021-02-22 00:00:00             2021-02-22          2021-02-22   \n",
              "1  2021-02-22 00:00:00             2021-02-22          2021-02-22   \n",
              "2  2021-02-22 00:00:00             2021-02-22          2021-02-22   \n",
              "3  2021-02-22 00:00:00             2021-02-22          2021-02-22   \n",
              "4  2021-02-22 00:00:00             2021-02-22          2021-02-22   \n",
              "\n",
              "  Actual departure date  \n",
              "0            2021-02-22  \n",
              "1            2021-02-22  \n",
              "2            2021-02-22  \n",
              "3            2021-02-22  \n",
              "4            2021-02-22  "
            ],
            "text/html": [
              "\n",
              "  <div id=\"df-0da586db-a47d-4959-9753-965a5ed30eba\">\n",
              "    <div class=\"colab-df-container\">\n",
              "      <div>\n",
              "<style scoped>\n",
              "    .dataframe tbody tr th:only-of-type {\n",
              "        vertical-align: middle;\n",
              "    }\n",
              "\n",
              "    .dataframe tbody tr th {\n",
              "        vertical-align: top;\n",
              "    }\n",
              "\n",
              "    .dataframe thead th {\n",
              "        text-align: right;\n",
              "    }\n",
              "</style>\n",
              "<table border=\"1\" class=\"dataframe\">\n",
              "  <thead>\n",
              "    <tr style=\"text-align: right;\">\n",
              "      <th></th>\n",
              "      <th>Date of departure</th>\n",
              "      <th>Train number</th>\n",
              "      <th>Relation</th>\n",
              "      <th>Railway operator</th>\n",
              "      <th>Departure line</th>\n",
              "      <th>Actual arrival time</th>\n",
              "      <th>Actual departure time</th>\n",
              "      <th>Planned arrival time</th>\n",
              "      <th>Planned departure time</th>\n",
              "      <th>Delay at arrival</th>\n",
              "      <th>Delay at departure</th>\n",
              "      <th>Relation direction</th>\n",
              "      <th>Stopping place</th>\n",
              "      <th>Arrival line</th>\n",
              "      <th>Planned arrival date</th>\n",
              "      <th>Planned departure date</th>\n",
              "      <th>Actual arrival date</th>\n",
              "      <th>Actual departure date</th>\n",
              "    </tr>\n",
              "  </thead>\n",
              "  <tbody>\n",
              "    <tr>\n",
              "      <th>0</th>\n",
              "      <td>2021-02-22</td>\n",
              "      <td>2528</td>\n",
              "      <td>IC 17</td>\n",
              "      <td>SNCB/NMBS</td>\n",
              "      <td>161</td>\n",
              "      <td>08:13:25</td>\n",
              "      <td>08:13:25</td>\n",
              "      <td>08:10:00</td>\n",
              "      <td>08:10:00</td>\n",
              "      <td>205.0</td>\n",
              "      <td>205.0</td>\n",
              "      <td>IC 17: DINANT -&gt; BRUSSELS AIRPORT - ZAVENTEM</td>\n",
              "      <td>GROENENDAAL</td>\n",
              "      <td>161</td>\n",
              "      <td>2021-02-22 00:00:00</td>\n",
              "      <td>2021-02-22</td>\n",
              "      <td>2021-02-22</td>\n",
              "      <td>2021-02-22</td>\n",
              "    </tr>\n",
              "    <tr>\n",
              "      <th>1</th>\n",
              "      <td>2021-02-22</td>\n",
              "      <td>2528</td>\n",
              "      <td>IC 17</td>\n",
              "      <td>SNCB/NMBS</td>\n",
              "      <td>26</td>\n",
              "      <td>08:31:12</td>\n",
              "      <td>08:31:12</td>\n",
              "      <td>08:30:00</td>\n",
              "      <td>08:30:00</td>\n",
              "      <td>72.0</td>\n",
              "      <td>72.0</td>\n",
              "      <td>IC 17: DINANT -&gt; BRUSSELS AIRPORT - ZAVENTEM</td>\n",
              "      <td>EVERE</td>\n",
              "      <td>26</td>\n",
              "      <td>2021-02-22 00:00:00</td>\n",
              "      <td>2021-02-22</td>\n",
              "      <td>2021-02-22</td>\n",
              "      <td>2021-02-22</td>\n",
              "    </tr>\n",
              "    <tr>\n",
              "      <th>2</th>\n",
              "      <td>2021-02-22</td>\n",
              "      <td>2528</td>\n",
              "      <td>IC 17</td>\n",
              "      <td>SNCB/NMBS</td>\n",
              "      <td>36</td>\n",
              "      <td>08:38:34</td>\n",
              "      <td>08:38:34</td>\n",
              "      <td>08:38:00</td>\n",
              "      <td>08:38:00</td>\n",
              "      <td>34.0</td>\n",
              "      <td>34.0</td>\n",
              "      <td>IC 17: DINANT -&gt; BRUSSELS AIRPORT - ZAVENTEM</td>\n",
              "      <td>DIEGEM</td>\n",
              "      <td>36</td>\n",
              "      <td>2021-02-22 00:00:00</td>\n",
              "      <td>2021-02-22</td>\n",
              "      <td>2021-02-22</td>\n",
              "      <td>2021-02-22</td>\n",
              "    </tr>\n",
              "    <tr>\n",
              "      <th>3</th>\n",
              "      <td>2021-02-22</td>\n",
              "      <td>2528</td>\n",
              "      <td>IC 17</td>\n",
              "      <td>SNCB/NMBS</td>\n",
              "      <td>36</td>\n",
              "      <td>08:39:35</td>\n",
              "      <td>08:39:35</td>\n",
              "      <td>08:39:00</td>\n",
              "      <td>08:39:00</td>\n",
              "      <td>35.0</td>\n",
              "      <td>35.0</td>\n",
              "      <td>IC 17: DINANT -&gt; BRUSSELS AIRPORT - ZAVENTEM</td>\n",
              "      <td>ZAVENTEM</td>\n",
              "      <td>36</td>\n",
              "      <td>2021-02-22 00:00:00</td>\n",
              "      <td>2021-02-22</td>\n",
              "      <td>2021-02-22</td>\n",
              "      <td>2021-02-22</td>\n",
              "    </tr>\n",
              "    <tr>\n",
              "      <th>4</th>\n",
              "      <td>2021-02-22</td>\n",
              "      <td>1487</td>\n",
              "      <td>L A4-1</td>\n",
              "      <td>SNCB/NMBS</td>\n",
              "      <td>59</td>\n",
              "      <td>16:41:36</td>\n",
              "      <td>16:42:06</td>\n",
              "      <td>16:42:00</td>\n",
              "      <td>16:42:00</td>\n",
              "      <td>-24.0</td>\n",
              "      <td>6.0</td>\n",
              "      <td>L A4-1: SINT-NIKLAAS -&gt; ANTWERPEN-CENTRAAL</td>\n",
              "      <td>BEVEREN(WAAS)</td>\n",
              "      <td>59</td>\n",
              "      <td>2021-02-22 00:00:00</td>\n",
              "      <td>2021-02-22</td>\n",
              "      <td>2021-02-22</td>\n",
              "      <td>2021-02-22</td>\n",
              "    </tr>\n",
              "  </tbody>\n",
              "</table>\n",
              "</div>\n",
              "      <button class=\"colab-df-convert\" onclick=\"convertToInteractive('df-0da586db-a47d-4959-9753-965a5ed30eba')\"\n",
              "              title=\"Convert this dataframe to an interactive table.\"\n",
              "              style=\"display:none;\">\n",
              "        \n",
              "  <svg xmlns=\"http://www.w3.org/2000/svg\" height=\"24px\"viewBox=\"0 0 24 24\"\n",
              "       width=\"24px\">\n",
              "    <path d=\"M0 0h24v24H0V0z\" fill=\"none\"/>\n",
              "    <path d=\"M18.56 5.44l.94 2.06.94-2.06 2.06-.94-2.06-.94-.94-2.06-.94 2.06-2.06.94zm-11 1L8.5 8.5l.94-2.06 2.06-.94-2.06-.94L8.5 2.5l-.94 2.06-2.06.94zm10 10l.94 2.06.94-2.06 2.06-.94-2.06-.94-.94-2.06-.94 2.06-2.06.94z\"/><path d=\"M17.41 7.96l-1.37-1.37c-.4-.4-.92-.59-1.43-.59-.52 0-1.04.2-1.43.59L10.3 9.45l-7.72 7.72c-.78.78-.78 2.05 0 2.83L4 21.41c.39.39.9.59 1.41.59.51 0 1.02-.2 1.41-.59l7.78-7.78 2.81-2.81c.8-.78.8-2.07 0-2.86zM5.41 20L4 18.59l7.72-7.72 1.47 1.35L5.41 20z\"/>\n",
              "  </svg>\n",
              "      </button>\n",
              "      \n",
              "  <style>\n",
              "    .colab-df-container {\n",
              "      display:flex;\n",
              "      flex-wrap:wrap;\n",
              "      gap: 12px;\n",
              "    }\n",
              "\n",
              "    .colab-df-convert {\n",
              "      background-color: #E8F0FE;\n",
              "      border: none;\n",
              "      border-radius: 50%;\n",
              "      cursor: pointer;\n",
              "      display: none;\n",
              "      fill: #1967D2;\n",
              "      height: 32px;\n",
              "      padding: 0 0 0 0;\n",
              "      width: 32px;\n",
              "    }\n",
              "\n",
              "    .colab-df-convert:hover {\n",
              "      background-color: #E2EBFA;\n",
              "      box-shadow: 0px 1px 2px rgba(60, 64, 67, 0.3), 0px 1px 3px 1px rgba(60, 64, 67, 0.15);\n",
              "      fill: #174EA6;\n",
              "    }\n",
              "\n",
              "    [theme=dark] .colab-df-convert {\n",
              "      background-color: #3B4455;\n",
              "      fill: #D2E3FC;\n",
              "    }\n",
              "\n",
              "    [theme=dark] .colab-df-convert:hover {\n",
              "      background-color: #434B5C;\n",
              "      box-shadow: 0px 1px 3px 1px rgba(0, 0, 0, 0.15);\n",
              "      filter: drop-shadow(0px 1px 2px rgba(0, 0, 0, 0.3));\n",
              "      fill: #FFFFFF;\n",
              "    }\n",
              "  </style>\n",
              "\n",
              "      <script>\n",
              "        const buttonEl =\n",
              "          document.querySelector('#df-0da586db-a47d-4959-9753-965a5ed30eba button.colab-df-convert');\n",
              "        buttonEl.style.display =\n",
              "          google.colab.kernel.accessAllowed ? 'block' : 'none';\n",
              "\n",
              "        async function convertToInteractive(key) {\n",
              "          const element = document.querySelector('#df-0da586db-a47d-4959-9753-965a5ed30eba');\n",
              "          const dataTable =\n",
              "            await google.colab.kernel.invokeFunction('convertToInteractive',\n",
              "                                                     [key], {});\n",
              "          if (!dataTable) return;\n",
              "\n",
              "          const docLinkHtml = 'Like what you see? Visit the ' +\n",
              "            '<a target=\"_blank\" href=https://colab.research.google.com/notebooks/data_table.ipynb>data table notebook</a>'\n",
              "            + ' to learn more about interactive tables.';\n",
              "          element.innerHTML = '';\n",
              "          dataTable['output_type'] = 'display_data';\n",
              "          await google.colab.output.renderOutput(dataTable, element);\n",
              "          const docLink = document.createElement('div');\n",
              "          docLink.innerHTML = docLinkHtml;\n",
              "          element.appendChild(docLink);\n",
              "        }\n",
              "      </script>\n",
              "    </div>\n",
              "  </div>\n",
              "  "
            ]
          },
          "metadata": {},
          "execution_count": 4
        }
      ]
    },
    {
      "cell_type": "code",
      "metadata": {
        "id": "political-exercise",
        "outputId": "4c22ee24-df8e-468a-ad8c-1bed4a739e45",
        "colab": {
          "base_uri": "https://localhost:8080/",
          "height": 614
        }
      },
      "source": [
        "# Data types in dataset\n",
        "\n",
        "pd.DataFrame({'Data Type':df.dtypes})"
      ],
      "id": "political-exercise",
      "execution_count": 5,
      "outputs": [
        {
          "output_type": "execute_result",
          "data": {
            "text/plain": [
              "                       Data Type\n",
              "Date of departure         object\n",
              "Train number               int64\n",
              "Relation                  object\n",
              "Railway operator          object\n",
              "Departure line            object\n",
              "Actual arrival time       object\n",
              "Actual departure time     object\n",
              "Planned arrival time      object\n",
              "Planned departure time    object\n",
              "Delay at arrival         float64\n",
              "Delay at departure       float64\n",
              "Relation direction        object\n",
              "Stopping place            object\n",
              "Arrival line              object\n",
              "Planned arrival date      object\n",
              "Planned departure date    object\n",
              "Actual arrival date       object\n",
              "Actual departure date     object"
            ],
            "text/html": [
              "\n",
              "  <div id=\"df-4da7b08c-6259-4144-8ddd-f6d153aac951\">\n",
              "    <div class=\"colab-df-container\">\n",
              "      <div>\n",
              "<style scoped>\n",
              "    .dataframe tbody tr th:only-of-type {\n",
              "        vertical-align: middle;\n",
              "    }\n",
              "\n",
              "    .dataframe tbody tr th {\n",
              "        vertical-align: top;\n",
              "    }\n",
              "\n",
              "    .dataframe thead th {\n",
              "        text-align: right;\n",
              "    }\n",
              "</style>\n",
              "<table border=\"1\" class=\"dataframe\">\n",
              "  <thead>\n",
              "    <tr style=\"text-align: right;\">\n",
              "      <th></th>\n",
              "      <th>Data Type</th>\n",
              "    </tr>\n",
              "  </thead>\n",
              "  <tbody>\n",
              "    <tr>\n",
              "      <th>Date of departure</th>\n",
              "      <td>object</td>\n",
              "    </tr>\n",
              "    <tr>\n",
              "      <th>Train number</th>\n",
              "      <td>int64</td>\n",
              "    </tr>\n",
              "    <tr>\n",
              "      <th>Relation</th>\n",
              "      <td>object</td>\n",
              "    </tr>\n",
              "    <tr>\n",
              "      <th>Railway operator</th>\n",
              "      <td>object</td>\n",
              "    </tr>\n",
              "    <tr>\n",
              "      <th>Departure line</th>\n",
              "      <td>object</td>\n",
              "    </tr>\n",
              "    <tr>\n",
              "      <th>Actual arrival time</th>\n",
              "      <td>object</td>\n",
              "    </tr>\n",
              "    <tr>\n",
              "      <th>Actual departure time</th>\n",
              "      <td>object</td>\n",
              "    </tr>\n",
              "    <tr>\n",
              "      <th>Planned arrival time</th>\n",
              "      <td>object</td>\n",
              "    </tr>\n",
              "    <tr>\n",
              "      <th>Planned departure time</th>\n",
              "      <td>object</td>\n",
              "    </tr>\n",
              "    <tr>\n",
              "      <th>Delay at arrival</th>\n",
              "      <td>float64</td>\n",
              "    </tr>\n",
              "    <tr>\n",
              "      <th>Delay at departure</th>\n",
              "      <td>float64</td>\n",
              "    </tr>\n",
              "    <tr>\n",
              "      <th>Relation direction</th>\n",
              "      <td>object</td>\n",
              "    </tr>\n",
              "    <tr>\n",
              "      <th>Stopping place</th>\n",
              "      <td>object</td>\n",
              "    </tr>\n",
              "    <tr>\n",
              "      <th>Arrival line</th>\n",
              "      <td>object</td>\n",
              "    </tr>\n",
              "    <tr>\n",
              "      <th>Planned arrival date</th>\n",
              "      <td>object</td>\n",
              "    </tr>\n",
              "    <tr>\n",
              "      <th>Planned departure date</th>\n",
              "      <td>object</td>\n",
              "    </tr>\n",
              "    <tr>\n",
              "      <th>Actual arrival date</th>\n",
              "      <td>object</td>\n",
              "    </tr>\n",
              "    <tr>\n",
              "      <th>Actual departure date</th>\n",
              "      <td>object</td>\n",
              "    </tr>\n",
              "  </tbody>\n",
              "</table>\n",
              "</div>\n",
              "      <button class=\"colab-df-convert\" onclick=\"convertToInteractive('df-4da7b08c-6259-4144-8ddd-f6d153aac951')\"\n",
              "              title=\"Convert this dataframe to an interactive table.\"\n",
              "              style=\"display:none;\">\n",
              "        \n",
              "  <svg xmlns=\"http://www.w3.org/2000/svg\" height=\"24px\"viewBox=\"0 0 24 24\"\n",
              "       width=\"24px\">\n",
              "    <path d=\"M0 0h24v24H0V0z\" fill=\"none\"/>\n",
              "    <path d=\"M18.56 5.44l.94 2.06.94-2.06 2.06-.94-2.06-.94-.94-2.06-.94 2.06-2.06.94zm-11 1L8.5 8.5l.94-2.06 2.06-.94-2.06-.94L8.5 2.5l-.94 2.06-2.06.94zm10 10l.94 2.06.94-2.06 2.06-.94-2.06-.94-.94-2.06-.94 2.06-2.06.94z\"/><path d=\"M17.41 7.96l-1.37-1.37c-.4-.4-.92-.59-1.43-.59-.52 0-1.04.2-1.43.59L10.3 9.45l-7.72 7.72c-.78.78-.78 2.05 0 2.83L4 21.41c.39.39.9.59 1.41.59.51 0 1.02-.2 1.41-.59l7.78-7.78 2.81-2.81c.8-.78.8-2.07 0-2.86zM5.41 20L4 18.59l7.72-7.72 1.47 1.35L5.41 20z\"/>\n",
              "  </svg>\n",
              "      </button>\n",
              "      \n",
              "  <style>\n",
              "    .colab-df-container {\n",
              "      display:flex;\n",
              "      flex-wrap:wrap;\n",
              "      gap: 12px;\n",
              "    }\n",
              "\n",
              "    .colab-df-convert {\n",
              "      background-color: #E8F0FE;\n",
              "      border: none;\n",
              "      border-radius: 50%;\n",
              "      cursor: pointer;\n",
              "      display: none;\n",
              "      fill: #1967D2;\n",
              "      height: 32px;\n",
              "      padding: 0 0 0 0;\n",
              "      width: 32px;\n",
              "    }\n",
              "\n",
              "    .colab-df-convert:hover {\n",
              "      background-color: #E2EBFA;\n",
              "      box-shadow: 0px 1px 2px rgba(60, 64, 67, 0.3), 0px 1px 3px 1px rgba(60, 64, 67, 0.15);\n",
              "      fill: #174EA6;\n",
              "    }\n",
              "\n",
              "    [theme=dark] .colab-df-convert {\n",
              "      background-color: #3B4455;\n",
              "      fill: #D2E3FC;\n",
              "    }\n",
              "\n",
              "    [theme=dark] .colab-df-convert:hover {\n",
              "      background-color: #434B5C;\n",
              "      box-shadow: 0px 1px 3px 1px rgba(0, 0, 0, 0.15);\n",
              "      filter: drop-shadow(0px 1px 2px rgba(0, 0, 0, 0.3));\n",
              "      fill: #FFFFFF;\n",
              "    }\n",
              "  </style>\n",
              "\n",
              "      <script>\n",
              "        const buttonEl =\n",
              "          document.querySelector('#df-4da7b08c-6259-4144-8ddd-f6d153aac951 button.colab-df-convert');\n",
              "        buttonEl.style.display =\n",
              "          google.colab.kernel.accessAllowed ? 'block' : 'none';\n",
              "\n",
              "        async function convertToInteractive(key) {\n",
              "          const element = document.querySelector('#df-4da7b08c-6259-4144-8ddd-f6d153aac951');\n",
              "          const dataTable =\n",
              "            await google.colab.kernel.invokeFunction('convertToInteractive',\n",
              "                                                     [key], {});\n",
              "          if (!dataTable) return;\n",
              "\n",
              "          const docLinkHtml = 'Like what you see? Visit the ' +\n",
              "            '<a target=\"_blank\" href=https://colab.research.google.com/notebooks/data_table.ipynb>data table notebook</a>'\n",
              "            + ' to learn more about interactive tables.';\n",
              "          element.innerHTML = '';\n",
              "          dataTable['output_type'] = 'display_data';\n",
              "          await google.colab.output.renderOutput(dataTable, element);\n",
              "          const docLink = document.createElement('div');\n",
              "          docLink.innerHTML = docLinkHtml;\n",
              "          element.appendChild(docLink);\n",
              "        }\n",
              "      </script>\n",
              "    </div>\n",
              "  </div>\n",
              "  "
            ]
          },
          "metadata": {},
          "execution_count": 5
        }
      ]
    },
    {
      "cell_type": "code",
      "metadata": {
        "id": "sunrise-liberal",
        "outputId": "cfadcb75-5680-43d4-b604-3ede3ea0e367",
        "colab": {
          "base_uri": "https://localhost:8080/"
        }
      },
      "source": [
        "# Dataset shape\n",
        "\n",
        "print('Rows: ',df.shape[0],'\\nColumns: ',df.shape[1])"
      ],
      "id": "sunrise-liberal",
      "execution_count": 6,
      "outputs": [
        {
          "output_type": "stream",
          "name": "stdout",
          "text": [
            "Rows:  72609 \n",
            "Columns:  18\n"
          ]
        }
      ]
    },
    {
      "cell_type": "code",
      "metadata": {
        "id": "helpful-citizen",
        "outputId": "842fd567-b474-4ac2-e067-aa9417642ed8",
        "colab": {
          "base_uri": "https://localhost:8080/",
          "height": 614
        }
      },
      "source": [
        "# Missing Values\n",
        "\n",
        "missing=pd.DataFrame({'Missing Values':df.isna().sum(),'%Missing Values':round(df.isnull().sum()/df.shape[0]*100,2)})\n",
        "missing"
      ],
      "id": "helpful-citizen",
      "execution_count": 7,
      "outputs": [
        {
          "output_type": "execute_result",
          "data": {
            "text/plain": [
              "                        Missing Values  %Missing Values\n",
              "Date of departure                    0             0.00\n",
              "Train number                         0             0.00\n",
              "Relation                             0             0.00\n",
              "Railway operator                     0             0.00\n",
              "Departure line                    3522             4.85\n",
              "Actual arrival time               3526             4.86\n",
              "Actual departure time             3522             4.85\n",
              "Planned arrival time              3526             4.86\n",
              "Planned departure time            3522             4.85\n",
              "Delay at arrival                  3526             4.86\n",
              "Delay at departure                3522             4.85\n",
              "Relation direction                5109             7.04\n",
              "Stopping place                       0             0.00\n",
              "Arrival line                      3526             4.86\n",
              "Planned arrival date              3526             4.86\n",
              "Planned departure date            3522             4.85\n",
              "Actual arrival date               3526             4.86\n",
              "Actual departure date             3522             4.85"
            ],
            "text/html": [
              "\n",
              "  <div id=\"df-392eb24c-bb12-44b6-9856-ecd6a09d17be\">\n",
              "    <div class=\"colab-df-container\">\n",
              "      <div>\n",
              "<style scoped>\n",
              "    .dataframe tbody tr th:only-of-type {\n",
              "        vertical-align: middle;\n",
              "    }\n",
              "\n",
              "    .dataframe tbody tr th {\n",
              "        vertical-align: top;\n",
              "    }\n",
              "\n",
              "    .dataframe thead th {\n",
              "        text-align: right;\n",
              "    }\n",
              "</style>\n",
              "<table border=\"1\" class=\"dataframe\">\n",
              "  <thead>\n",
              "    <tr style=\"text-align: right;\">\n",
              "      <th></th>\n",
              "      <th>Missing Values</th>\n",
              "      <th>%Missing Values</th>\n",
              "    </tr>\n",
              "  </thead>\n",
              "  <tbody>\n",
              "    <tr>\n",
              "      <th>Date of departure</th>\n",
              "      <td>0</td>\n",
              "      <td>0.00</td>\n",
              "    </tr>\n",
              "    <tr>\n",
              "      <th>Train number</th>\n",
              "      <td>0</td>\n",
              "      <td>0.00</td>\n",
              "    </tr>\n",
              "    <tr>\n",
              "      <th>Relation</th>\n",
              "      <td>0</td>\n",
              "      <td>0.00</td>\n",
              "    </tr>\n",
              "    <tr>\n",
              "      <th>Railway operator</th>\n",
              "      <td>0</td>\n",
              "      <td>0.00</td>\n",
              "    </tr>\n",
              "    <tr>\n",
              "      <th>Departure line</th>\n",
              "      <td>3522</td>\n",
              "      <td>4.85</td>\n",
              "    </tr>\n",
              "    <tr>\n",
              "      <th>Actual arrival time</th>\n",
              "      <td>3526</td>\n",
              "      <td>4.86</td>\n",
              "    </tr>\n",
              "    <tr>\n",
              "      <th>Actual departure time</th>\n",
              "      <td>3522</td>\n",
              "      <td>4.85</td>\n",
              "    </tr>\n",
              "    <tr>\n",
              "      <th>Planned arrival time</th>\n",
              "      <td>3526</td>\n",
              "      <td>4.86</td>\n",
              "    </tr>\n",
              "    <tr>\n",
              "      <th>Planned departure time</th>\n",
              "      <td>3522</td>\n",
              "      <td>4.85</td>\n",
              "    </tr>\n",
              "    <tr>\n",
              "      <th>Delay at arrival</th>\n",
              "      <td>3526</td>\n",
              "      <td>4.86</td>\n",
              "    </tr>\n",
              "    <tr>\n",
              "      <th>Delay at departure</th>\n",
              "      <td>3522</td>\n",
              "      <td>4.85</td>\n",
              "    </tr>\n",
              "    <tr>\n",
              "      <th>Relation direction</th>\n",
              "      <td>5109</td>\n",
              "      <td>7.04</td>\n",
              "    </tr>\n",
              "    <tr>\n",
              "      <th>Stopping place</th>\n",
              "      <td>0</td>\n",
              "      <td>0.00</td>\n",
              "    </tr>\n",
              "    <tr>\n",
              "      <th>Arrival line</th>\n",
              "      <td>3526</td>\n",
              "      <td>4.86</td>\n",
              "    </tr>\n",
              "    <tr>\n",
              "      <th>Planned arrival date</th>\n",
              "      <td>3526</td>\n",
              "      <td>4.86</td>\n",
              "    </tr>\n",
              "    <tr>\n",
              "      <th>Planned departure date</th>\n",
              "      <td>3522</td>\n",
              "      <td>4.85</td>\n",
              "    </tr>\n",
              "    <tr>\n",
              "      <th>Actual arrival date</th>\n",
              "      <td>3526</td>\n",
              "      <td>4.86</td>\n",
              "    </tr>\n",
              "    <tr>\n",
              "      <th>Actual departure date</th>\n",
              "      <td>3522</td>\n",
              "      <td>4.85</td>\n",
              "    </tr>\n",
              "  </tbody>\n",
              "</table>\n",
              "</div>\n",
              "      <button class=\"colab-df-convert\" onclick=\"convertToInteractive('df-392eb24c-bb12-44b6-9856-ecd6a09d17be')\"\n",
              "              title=\"Convert this dataframe to an interactive table.\"\n",
              "              style=\"display:none;\">\n",
              "        \n",
              "  <svg xmlns=\"http://www.w3.org/2000/svg\" height=\"24px\"viewBox=\"0 0 24 24\"\n",
              "       width=\"24px\">\n",
              "    <path d=\"M0 0h24v24H0V0z\" fill=\"none\"/>\n",
              "    <path d=\"M18.56 5.44l.94 2.06.94-2.06 2.06-.94-2.06-.94-.94-2.06-.94 2.06-2.06.94zm-11 1L8.5 8.5l.94-2.06 2.06-.94-2.06-.94L8.5 2.5l-.94 2.06-2.06.94zm10 10l.94 2.06.94-2.06 2.06-.94-2.06-.94-.94-2.06-.94 2.06-2.06.94z\"/><path d=\"M17.41 7.96l-1.37-1.37c-.4-.4-.92-.59-1.43-.59-.52 0-1.04.2-1.43.59L10.3 9.45l-7.72 7.72c-.78.78-.78 2.05 0 2.83L4 21.41c.39.39.9.59 1.41.59.51 0 1.02-.2 1.41-.59l7.78-7.78 2.81-2.81c.8-.78.8-2.07 0-2.86zM5.41 20L4 18.59l7.72-7.72 1.47 1.35L5.41 20z\"/>\n",
              "  </svg>\n",
              "      </button>\n",
              "      \n",
              "  <style>\n",
              "    .colab-df-container {\n",
              "      display:flex;\n",
              "      flex-wrap:wrap;\n",
              "      gap: 12px;\n",
              "    }\n",
              "\n",
              "    .colab-df-convert {\n",
              "      background-color: #E8F0FE;\n",
              "      border: none;\n",
              "      border-radius: 50%;\n",
              "      cursor: pointer;\n",
              "      display: none;\n",
              "      fill: #1967D2;\n",
              "      height: 32px;\n",
              "      padding: 0 0 0 0;\n",
              "      width: 32px;\n",
              "    }\n",
              "\n",
              "    .colab-df-convert:hover {\n",
              "      background-color: #E2EBFA;\n",
              "      box-shadow: 0px 1px 2px rgba(60, 64, 67, 0.3), 0px 1px 3px 1px rgba(60, 64, 67, 0.15);\n",
              "      fill: #174EA6;\n",
              "    }\n",
              "\n",
              "    [theme=dark] .colab-df-convert {\n",
              "      background-color: #3B4455;\n",
              "      fill: #D2E3FC;\n",
              "    }\n",
              "\n",
              "    [theme=dark] .colab-df-convert:hover {\n",
              "      background-color: #434B5C;\n",
              "      box-shadow: 0px 1px 3px 1px rgba(0, 0, 0, 0.15);\n",
              "      filter: drop-shadow(0px 1px 2px rgba(0, 0, 0, 0.3));\n",
              "      fill: #FFFFFF;\n",
              "    }\n",
              "  </style>\n",
              "\n",
              "      <script>\n",
              "        const buttonEl =\n",
              "          document.querySelector('#df-392eb24c-bb12-44b6-9856-ecd6a09d17be button.colab-df-convert');\n",
              "        buttonEl.style.display =\n",
              "          google.colab.kernel.accessAllowed ? 'block' : 'none';\n",
              "\n",
              "        async function convertToInteractive(key) {\n",
              "          const element = document.querySelector('#df-392eb24c-bb12-44b6-9856-ecd6a09d17be');\n",
              "          const dataTable =\n",
              "            await google.colab.kernel.invokeFunction('convertToInteractive',\n",
              "                                                     [key], {});\n",
              "          if (!dataTable) return;\n",
              "\n",
              "          const docLinkHtml = 'Like what you see? Visit the ' +\n",
              "            '<a target=\"_blank\" href=https://colab.research.google.com/notebooks/data_table.ipynb>data table notebook</a>'\n",
              "            + ' to learn more about interactive tables.';\n",
              "          element.innerHTML = '';\n",
              "          dataTable['output_type'] = 'display_data';\n",
              "          await google.colab.output.renderOutput(dataTable, element);\n",
              "          const docLink = document.createElement('div');\n",
              "          docLink.innerHTML = docLinkHtml;\n",
              "          element.appendChild(docLink);\n",
              "        }\n",
              "      </script>\n",
              "    </div>\n",
              "  </div>\n",
              "  "
            ]
          },
          "metadata": {},
          "execution_count": 7
        }
      ]
    },
    {
      "cell_type": "code",
      "metadata": {
        "id": "described-ending",
        "outputId": "5d1c3ae8-e4ad-460e-c5fe-bb32202e2806",
        "colab": {
          "base_uri": "https://localhost:8080/",
          "height": 372
        }
      },
      "source": [
        "# Some missing values\n",
        "\n",
        "mask=df.isnull().any(axis=1)\n",
        "df[mask].head()"
      ],
      "id": "described-ending",
      "execution_count": 8,
      "outputs": [
        {
          "output_type": "execute_result",
          "data": {
            "text/plain": [
              "   Date of departure  Train number Relation Railway operator Departure line  \\\n",
              "5         2021-02-22          1487   L A4-1        SNCB/NMBS            NaN   \n",
              "6         2021-02-22          1469   L A4-1        SNCB/NMBS           59/1   \n",
              "9         2021-02-22          1469   L A4-1        SNCB/NMBS            NaN   \n",
              "17        2021-02-22          4027    IC 27        SNCB/NMBS            36C   \n",
              "25        2021-02-22          4027    IC 27        SNCB/NMBS            NaN   \n",
              "\n",
              "   Actual arrival time Actual departure time Planned arrival time  \\\n",
              "5             17:06:09                   NaN             17:04:00   \n",
              "6                  NaN              19:56:10                  NaN   \n",
              "9             20:24:55                   NaN             20:25:00   \n",
              "17                 NaN              05:47:41                  NaN   \n",
              "25            07:21:00                   NaN             07:21:00   \n",
              "\n",
              "   Planned departure time  Delay at arrival  Delay at departure  \\\n",
              "5                     NaN             129.0                 NaN   \n",
              "6                19:56:00               NaN                10.0   \n",
              "9                     NaN              -5.0                 NaN   \n",
              "17               05:47:00               NaN                41.0   \n",
              "25                    NaN               0.0                 NaN   \n",
              "\n",
              "                                   Relation direction  \\\n",
              "5          L A4-1: SINT-NIKLAAS -> ANTWERPEN-CENTRAAL   \n",
              "6          L A4-1: ANTWERPEN-CENTRAAL -> SINT-NIKLAAS   \n",
              "9          L A4-1: ANTWERPEN-CENTRAAL -> SINT-NIKLAAS   \n",
              "17  IC 27: BRUSSELS AIRPORT - ZAVENTEM -> CHARLERO...   \n",
              "25  IC 27: BRUSSELS AIRPORT - ZAVENTEM -> CHARLERO...   \n",
              "\n",
              "                 Stopping place Arrival line Planned arrival date  \\\n",
              "5            ANTWERPEN-CENTRAAL         59/1  2021-02-22 00:00:00   \n",
              "6            ANTWERPEN-CENTRAAL          NaN                  NaN   \n",
              "9                  SINT-NIKLAAS           59  2021-02-22 00:00:00   \n",
              "17  BRUSSELS AIRPORT - ZAVENTEM          NaN                  NaN   \n",
              "25                CHARLEROI-SUD          124  2021-02-22 00:00:00   \n",
              "\n",
              "   Planned departure date Actual arrival date Actual departure date  \n",
              "5                     NaN          2021-02-22                   NaN  \n",
              "6              2021-02-22                 NaN            2021-02-22  \n",
              "9                     NaN          2021-02-22                   NaN  \n",
              "17             2021-02-22                 NaN            2021-02-22  \n",
              "25                    NaN          2021-02-22                   NaN  "
            ],
            "text/html": [
              "\n",
              "  <div id=\"df-bb2e956c-d0a7-4e95-afa4-7147aa874d11\">\n",
              "    <div class=\"colab-df-container\">\n",
              "      <div>\n",
              "<style scoped>\n",
              "    .dataframe tbody tr th:only-of-type {\n",
              "        vertical-align: middle;\n",
              "    }\n",
              "\n",
              "    .dataframe tbody tr th {\n",
              "        vertical-align: top;\n",
              "    }\n",
              "\n",
              "    .dataframe thead th {\n",
              "        text-align: right;\n",
              "    }\n",
              "</style>\n",
              "<table border=\"1\" class=\"dataframe\">\n",
              "  <thead>\n",
              "    <tr style=\"text-align: right;\">\n",
              "      <th></th>\n",
              "      <th>Date of departure</th>\n",
              "      <th>Train number</th>\n",
              "      <th>Relation</th>\n",
              "      <th>Railway operator</th>\n",
              "      <th>Departure line</th>\n",
              "      <th>Actual arrival time</th>\n",
              "      <th>Actual departure time</th>\n",
              "      <th>Planned arrival time</th>\n",
              "      <th>Planned departure time</th>\n",
              "      <th>Delay at arrival</th>\n",
              "      <th>Delay at departure</th>\n",
              "      <th>Relation direction</th>\n",
              "      <th>Stopping place</th>\n",
              "      <th>Arrival line</th>\n",
              "      <th>Planned arrival date</th>\n",
              "      <th>Planned departure date</th>\n",
              "      <th>Actual arrival date</th>\n",
              "      <th>Actual departure date</th>\n",
              "    </tr>\n",
              "  </thead>\n",
              "  <tbody>\n",
              "    <tr>\n",
              "      <th>5</th>\n",
              "      <td>2021-02-22</td>\n",
              "      <td>1487</td>\n",
              "      <td>L A4-1</td>\n",
              "      <td>SNCB/NMBS</td>\n",
              "      <td>NaN</td>\n",
              "      <td>17:06:09</td>\n",
              "      <td>NaN</td>\n",
              "      <td>17:04:00</td>\n",
              "      <td>NaN</td>\n",
              "      <td>129.0</td>\n",
              "      <td>NaN</td>\n",
              "      <td>L A4-1: SINT-NIKLAAS -&gt; ANTWERPEN-CENTRAAL</td>\n",
              "      <td>ANTWERPEN-CENTRAAL</td>\n",
              "      <td>59/1</td>\n",
              "      <td>2021-02-22 00:00:00</td>\n",
              "      <td>NaN</td>\n",
              "      <td>2021-02-22</td>\n",
              "      <td>NaN</td>\n",
              "    </tr>\n",
              "    <tr>\n",
              "      <th>6</th>\n",
              "      <td>2021-02-22</td>\n",
              "      <td>1469</td>\n",
              "      <td>L A4-1</td>\n",
              "      <td>SNCB/NMBS</td>\n",
              "      <td>59/1</td>\n",
              "      <td>NaN</td>\n",
              "      <td>19:56:10</td>\n",
              "      <td>NaN</td>\n",
              "      <td>19:56:00</td>\n",
              "      <td>NaN</td>\n",
              "      <td>10.0</td>\n",
              "      <td>L A4-1: ANTWERPEN-CENTRAAL -&gt; SINT-NIKLAAS</td>\n",
              "      <td>ANTWERPEN-CENTRAAL</td>\n",
              "      <td>NaN</td>\n",
              "      <td>NaN</td>\n",
              "      <td>2021-02-22</td>\n",
              "      <td>NaN</td>\n",
              "      <td>2021-02-22</td>\n",
              "    </tr>\n",
              "    <tr>\n",
              "      <th>9</th>\n",
              "      <td>2021-02-22</td>\n",
              "      <td>1469</td>\n",
              "      <td>L A4-1</td>\n",
              "      <td>SNCB/NMBS</td>\n",
              "      <td>NaN</td>\n",
              "      <td>20:24:55</td>\n",
              "      <td>NaN</td>\n",
              "      <td>20:25:00</td>\n",
              "      <td>NaN</td>\n",
              "      <td>-5.0</td>\n",
              "      <td>NaN</td>\n",
              "      <td>L A4-1: ANTWERPEN-CENTRAAL -&gt; SINT-NIKLAAS</td>\n",
              "      <td>SINT-NIKLAAS</td>\n",
              "      <td>59</td>\n",
              "      <td>2021-02-22 00:00:00</td>\n",
              "      <td>NaN</td>\n",
              "      <td>2021-02-22</td>\n",
              "      <td>NaN</td>\n",
              "    </tr>\n",
              "    <tr>\n",
              "      <th>17</th>\n",
              "      <td>2021-02-22</td>\n",
              "      <td>4027</td>\n",
              "      <td>IC 27</td>\n",
              "      <td>SNCB/NMBS</td>\n",
              "      <td>36C</td>\n",
              "      <td>NaN</td>\n",
              "      <td>05:47:41</td>\n",
              "      <td>NaN</td>\n",
              "      <td>05:47:00</td>\n",
              "      <td>NaN</td>\n",
              "      <td>41.0</td>\n",
              "      <td>IC 27: BRUSSELS AIRPORT - ZAVENTEM -&gt; CHARLERO...</td>\n",
              "      <td>BRUSSELS AIRPORT - ZAVENTEM</td>\n",
              "      <td>NaN</td>\n",
              "      <td>NaN</td>\n",
              "      <td>2021-02-22</td>\n",
              "      <td>NaN</td>\n",
              "      <td>2021-02-22</td>\n",
              "    </tr>\n",
              "    <tr>\n",
              "      <th>25</th>\n",
              "      <td>2021-02-22</td>\n",
              "      <td>4027</td>\n",
              "      <td>IC 27</td>\n",
              "      <td>SNCB/NMBS</td>\n",
              "      <td>NaN</td>\n",
              "      <td>07:21:00</td>\n",
              "      <td>NaN</td>\n",
              "      <td>07:21:00</td>\n",
              "      <td>NaN</td>\n",
              "      <td>0.0</td>\n",
              "      <td>NaN</td>\n",
              "      <td>IC 27: BRUSSELS AIRPORT - ZAVENTEM -&gt; CHARLERO...</td>\n",
              "      <td>CHARLEROI-SUD</td>\n",
              "      <td>124</td>\n",
              "      <td>2021-02-22 00:00:00</td>\n",
              "      <td>NaN</td>\n",
              "      <td>2021-02-22</td>\n",
              "      <td>NaN</td>\n",
              "    </tr>\n",
              "  </tbody>\n",
              "</table>\n",
              "</div>\n",
              "      <button class=\"colab-df-convert\" onclick=\"convertToInteractive('df-bb2e956c-d0a7-4e95-afa4-7147aa874d11')\"\n",
              "              title=\"Convert this dataframe to an interactive table.\"\n",
              "              style=\"display:none;\">\n",
              "        \n",
              "  <svg xmlns=\"http://www.w3.org/2000/svg\" height=\"24px\"viewBox=\"0 0 24 24\"\n",
              "       width=\"24px\">\n",
              "    <path d=\"M0 0h24v24H0V0z\" fill=\"none\"/>\n",
              "    <path d=\"M18.56 5.44l.94 2.06.94-2.06 2.06-.94-2.06-.94-.94-2.06-.94 2.06-2.06.94zm-11 1L8.5 8.5l.94-2.06 2.06-.94-2.06-.94L8.5 2.5l-.94 2.06-2.06.94zm10 10l.94 2.06.94-2.06 2.06-.94-2.06-.94-.94-2.06-.94 2.06-2.06.94z\"/><path d=\"M17.41 7.96l-1.37-1.37c-.4-.4-.92-.59-1.43-.59-.52 0-1.04.2-1.43.59L10.3 9.45l-7.72 7.72c-.78.78-.78 2.05 0 2.83L4 21.41c.39.39.9.59 1.41.59.51 0 1.02-.2 1.41-.59l7.78-7.78 2.81-2.81c.8-.78.8-2.07 0-2.86zM5.41 20L4 18.59l7.72-7.72 1.47 1.35L5.41 20z\"/>\n",
              "  </svg>\n",
              "      </button>\n",
              "      \n",
              "  <style>\n",
              "    .colab-df-container {\n",
              "      display:flex;\n",
              "      flex-wrap:wrap;\n",
              "      gap: 12px;\n",
              "    }\n",
              "\n",
              "    .colab-df-convert {\n",
              "      background-color: #E8F0FE;\n",
              "      border: none;\n",
              "      border-radius: 50%;\n",
              "      cursor: pointer;\n",
              "      display: none;\n",
              "      fill: #1967D2;\n",
              "      height: 32px;\n",
              "      padding: 0 0 0 0;\n",
              "      width: 32px;\n",
              "    }\n",
              "\n",
              "    .colab-df-convert:hover {\n",
              "      background-color: #E2EBFA;\n",
              "      box-shadow: 0px 1px 2px rgba(60, 64, 67, 0.3), 0px 1px 3px 1px rgba(60, 64, 67, 0.15);\n",
              "      fill: #174EA6;\n",
              "    }\n",
              "\n",
              "    [theme=dark] .colab-df-convert {\n",
              "      background-color: #3B4455;\n",
              "      fill: #D2E3FC;\n",
              "    }\n",
              "\n",
              "    [theme=dark] .colab-df-convert:hover {\n",
              "      background-color: #434B5C;\n",
              "      box-shadow: 0px 1px 3px 1px rgba(0, 0, 0, 0.15);\n",
              "      filter: drop-shadow(0px 1px 2px rgba(0, 0, 0, 0.3));\n",
              "      fill: #FFFFFF;\n",
              "    }\n",
              "  </style>\n",
              "\n",
              "      <script>\n",
              "        const buttonEl =\n",
              "          document.querySelector('#df-bb2e956c-d0a7-4e95-afa4-7147aa874d11 button.colab-df-convert');\n",
              "        buttonEl.style.display =\n",
              "          google.colab.kernel.accessAllowed ? 'block' : 'none';\n",
              "\n",
              "        async function convertToInteractive(key) {\n",
              "          const element = document.querySelector('#df-bb2e956c-d0a7-4e95-afa4-7147aa874d11');\n",
              "          const dataTable =\n",
              "            await google.colab.kernel.invokeFunction('convertToInteractive',\n",
              "                                                     [key], {});\n",
              "          if (!dataTable) return;\n",
              "\n",
              "          const docLinkHtml = 'Like what you see? Visit the ' +\n",
              "            '<a target=\"_blank\" href=https://colab.research.google.com/notebooks/data_table.ipynb>data table notebook</a>'\n",
              "            + ' to learn more about interactive tables.';\n",
              "          element.innerHTML = '';\n",
              "          dataTable['output_type'] = 'display_data';\n",
              "          await google.colab.output.renderOutput(dataTable, element);\n",
              "          const docLink = document.createElement('div');\n",
              "          docLink.innerHTML = docLinkHtml;\n",
              "          element.appendChild(docLink);\n",
              "        }\n",
              "      </script>\n",
              "    </div>\n",
              "  </div>\n",
              "  "
            ]
          },
          "metadata": {},
          "execution_count": 8
        }
      ]
    },
    {
      "cell_type": "code",
      "metadata": {
        "id": "equivalent-alignment",
        "outputId": "d60813f0-dac4-4287-c941-fef4b9647da6",
        "colab": {
          "base_uri": "https://localhost:8080/"
        }
      },
      "source": [
        "# Total missing values in dataset\n",
        "\n",
        "print('Total missing values in dataset: ',df[mask].shape[0])"
      ],
      "id": "equivalent-alignment",
      "execution_count": 9,
      "outputs": [
        {
          "output_type": "stream",
          "name": "stdout",
          "text": [
            "Total missing values in dataset:  11317\n"
          ]
        }
      ]
    },
    {
      "cell_type": "markdown",
      "metadata": {
        "id": "published-cornell"
      },
      "source": [
        "# Data Cleaning\n"
      ],
      "id": "published-cornell"
    },
    {
      "cell_type": "markdown",
      "metadata": {
        "id": "manual-tsunami"
      },
      "source": [
        "## Dealing with missing values"
      ],
      "id": "manual-tsunami"
    },
    {
      "cell_type": "markdown",
      "metadata": {
        "id": "billion-funeral"
      },
      "source": [
        "The strategy will be extract unique values from columns with missing values and analyze a proper method to impute missing values."
      ],
      "id": "billion-funeral"
    },
    {
      "cell_type": "code",
      "metadata": {
        "colab": {
          "base_uri": "https://localhost:8080/"
        },
        "id": "colored-english",
        "outputId": "a9142ebb-8cf0-4bd6-bf41-cc25c15c8968"
      },
      "source": [
        "#Exploring departure line and arrival line\n",
        "\n",
        "op1=df[['Arrival line']].notnull().squeeze()\n",
        "op2=df[['Departure line']].notnull().squeeze()\n",
        "total=(op1==op2)\n",
        "total.sum()"
      ],
      "id": "colored-english",
      "execution_count": 10,
      "outputs": [
        {
          "output_type": "execute_result",
          "data": {
            "text/plain": [
              "65561"
            ]
          },
          "metadata": {},
          "execution_count": 10
        }
      ]
    },
    {
      "cell_type": "markdown",
      "metadata": {
        "id": "flying-turner"
      },
      "source": [
        "From the above I can conclude that more than 90% of data has the same ```departure line``` and ```arrival line```, so, I can replace missing values with information present in those columns."
      ],
      "id": "flying-turner"
    },
    {
      "cell_type": "code",
      "metadata": {
        "colab": {
          "base_uri": "https://localhost:8080/"
        },
        "id": "affecting-probe",
        "outputId": "cbb54dde-72fd-4faf-ac7d-4b63ead79ff4"
      },
      "source": [
        "# Replacing null values\n",
        "\n",
        "# Departure line\n",
        "\n",
        "depline=df['Departure line'].isnull()\n",
        "df['Departure line'].fillna(df.loc[depline,['Arrival line']].squeeze(),inplace=True)\n",
        "\n",
        "# Arrival line\n",
        "\n",
        "arline=df['Arrival line'].isnull()\n",
        "df['Arrival line'].fillna(df.loc[arline,['Departure line']].squeeze(),inplace=True)\n",
        "\n",
        "# Checking\n",
        "\n",
        "df.isnull().sum()"
      ],
      "id": "affecting-probe",
      "execution_count": 11,
      "outputs": [
        {
          "output_type": "execute_result",
          "data": {
            "text/plain": [
              "Date of departure            0\n",
              "Train number                 0\n",
              "Relation                     0\n",
              "Railway operator             0\n",
              "Departure line               0\n",
              "Actual arrival time       3526\n",
              "Actual departure time     3522\n",
              "Planned arrival time      3526\n",
              "Planned departure time    3522\n",
              "Delay at arrival          3526\n",
              "Delay at departure        3522\n",
              "Relation direction        5109\n",
              "Stopping place               0\n",
              "Arrival line                 0\n",
              "Planned arrival date      3526\n",
              "Planned departure date    3522\n",
              "Actual arrival date       3526\n",
              "Actual departure date     3522\n",
              "dtype: int64"
            ]
          },
          "metadata": {},
          "execution_count": 11
        }
      ]
    },
    {
      "cell_type": "code",
      "metadata": {
        "colab": {
          "base_uri": "https://localhost:8080/"
        },
        "id": "commercial-netherlands",
        "outputId": "2ee87215-c3ca-4a2b-9841-83a545325a54"
      },
      "source": [
        "# Exploring Planned arrival time and Planned departure time\n",
        "\n",
        "op1=df[['Planned arrival time']].notnull().squeeze()\n",
        "op2=df[['Planned departure time']].notnull().squeeze()\n",
        "total=(op1==op2)\n",
        "total.sum()"
      ],
      "id": "commercial-netherlands",
      "execution_count": 12,
      "outputs": [
        {
          "output_type": "execute_result",
          "data": {
            "text/plain": [
              "65561"
            ]
          },
          "metadata": {},
          "execution_count": 12
        }
      ]
    },
    {
      "cell_type": "markdown",
      "metadata": {
        "id": "breeding-grain"
      },
      "source": [
        "From the dataset I can see that most of the records have the same ```Planned arrival time``` and ```Planned departure time```"
      ],
      "id": "breeding-grain"
    },
    {
      "cell_type": "code",
      "metadata": {
        "colab": {
          "base_uri": "https://localhost:8080/"
        },
        "id": "proper-recommendation",
        "outputId": "c94d3467-8b64-4201-db04-9cc24df76ca8"
      },
      "source": [
        "# Planned arrival time\n",
        "\n",
        "mask1=df['Planned arrival time'].isnull()\n",
        "df['Planned arrival time'].fillna(df.loc[mask1,['Planned departure time']].squeeze(),inplace=True)\n",
        "\n",
        "# Planned departure time\n",
        "\n",
        "mask2=df['Planned departure time'].isnull()\n",
        "df['Planned departure time'].fillna(df.loc[mask2,['Planned arrival time']].squeeze(),inplace=True)\n",
        "\n",
        "# Checking\n",
        "\n",
        "df.isnull().sum()"
      ],
      "id": "proper-recommendation",
      "execution_count": null,
      "outputs": [
        {
          "output_type": "execute_result",
          "data": {
            "text/plain": [
              "Date of departure            0\n",
              "Train number                 0\n",
              "Relation                     0\n",
              "Railway operator             0\n",
              "Departure line               0\n",
              "Actual arrival time       3526\n",
              "Actual departure time     3522\n",
              "Planned arrival time         0\n",
              "Planned departure time       0\n",
              "Delay at arrival          3526\n",
              "Delay at departure        3522\n",
              "Relation direction        5109\n",
              "Stopping place               0\n",
              "Arrival line                 0\n",
              "Planned arrival date      3526\n",
              "Planned departure date    3522\n",
              "Actual arrival date       3526\n",
              "Actual departure date     3522\n",
              "dtype: int64"
            ]
          },
          "metadata": {},
          "execution_count": 12
        }
      ]
    },
    {
      "cell_type": "code",
      "metadata": {
        "id": "attached-arbitration"
      },
      "source": [
        "#Create a function to automate previous tasks\n",
        "\n",
        "def checking_2cols(col1,col2,data):\n",
        "    '''Check the % of records that 2 columns has in common without missing values'''\n",
        "    \n",
        "    op1=data[[col1]].notnull().squeeze()\n",
        "    op2=data[[col2]].notnull().squeeze()\n",
        "    total=(op1==op2)\n",
        "    result=round(total.sum()/data[[col1]].shape[0]*100)\n",
        "    return print('Total % with common rows: ',result,'%')\n",
        "\n",
        "\n",
        "def replace_common_rows(col1,col2,data):\n",
        "    \n",
        "    '''Replace common values in rows for a pair of columns'''\n",
        "    \n",
        "    mask1=data[col1].isnull()\n",
        "    data[col1].fillna(data.loc[mask1,[col2]].squeeze(),inplace=True)\n",
        "    \n",
        "\n",
        "    mask2=data[col2].isnull()\n",
        "    data[col2].fillna(data.loc[mask2,[col1]].squeeze(),inplace=True)\n",
        "\n"
      ],
      "id": "attached-arbitration",
      "execution_count": null,
      "outputs": []
    },
    {
      "cell_type": "code",
      "metadata": {
        "colab": {
          "base_uri": "https://localhost:8080/"
        },
        "id": "nervous-geology",
        "outputId": "27bafa11-b32a-4eeb-91df-714416a2f9f8"
      },
      "source": [
        "# Checking the remaining columns\n",
        "\n",
        "checking_2cols('Actual arrival time','Actual departure time',df)\n",
        "checking_2cols('Planned arrival date','Planned departure date',df)\n",
        "checking_2cols('Actual arrival date','Actual departure date',df)"
      ],
      "id": "nervous-geology",
      "execution_count": null,
      "outputs": [
        {
          "output_type": "stream",
          "name": "stdout",
          "text": [
            "Total % with common rows:  100 %\n",
            "Total % with common rows:  100 %\n",
            "Total % with common rows:  100 %\n"
          ]
        }
      ]
    },
    {
      "cell_type": "code",
      "metadata": {
        "colab": {
          "base_uri": "https://localhost:8080/"
        },
        "id": "veterinary-theta",
        "outputId": "10550fbb-6f78-42ac-ba35-b09e37da5d86"
      },
      "source": [
        "# Replacing the remaining columns\n",
        "\n",
        "replace_common_rows('Actual arrival time','Actual departure time',df)\n",
        "replace_common_rows('Planned arrival date','Planned departure date',df)\n",
        "replace_common_rows('Actual arrival date','Actual departure date',df)\n",
        "\n",
        "# Last check\n",
        "\n",
        "df.isnull().sum()"
      ],
      "id": "veterinary-theta",
      "execution_count": null,
      "outputs": [
        {
          "output_type": "execute_result",
          "data": {
            "text/plain": [
              "Date of departure            0\n",
              "Train number                 0\n",
              "Relation                     0\n",
              "Railway operator             0\n",
              "Departure line               0\n",
              "Actual arrival time          0\n",
              "Actual departure time        0\n",
              "Planned arrival time         0\n",
              "Planned departure time       0\n",
              "Delay at arrival          3526\n",
              "Delay at departure        3522\n",
              "Relation direction        5109\n",
              "Stopping place               0\n",
              "Arrival line                 0\n",
              "Planned arrival date         0\n",
              "Planned departure date       0\n",
              "Actual arrival date          0\n",
              "Actual departure date        0\n",
              "dtype: int64"
            ]
          },
          "metadata": {},
          "execution_count": 16
        }
      ]
    },
    {
      "cell_type": "code",
      "metadata": {
        "colab": {
          "base_uri": "https://localhost:8080/"
        },
        "id": "variable-designer",
        "scrolled": true,
        "outputId": "893a381e-eaf1-4a46-992d-db577d3b07aa"
      },
      "source": [
        "# Replacing missing values in Relation direction\n",
        "\n",
        "df['Relation direction'].fillna('not_given',inplace=True)\n",
        "df.isnull().sum()"
      ],
      "id": "variable-designer",
      "execution_count": null,
      "outputs": [
        {
          "output_type": "execute_result",
          "data": {
            "text/plain": [
              "Date of departure            0\n",
              "Train number                 0\n",
              "Relation                     0\n",
              "Railway operator             0\n",
              "Departure line               0\n",
              "Actual arrival time          0\n",
              "Actual departure time        0\n",
              "Planned arrival time         0\n",
              "Planned departure time       0\n",
              "Delay at arrival          3526\n",
              "Delay at departure        3522\n",
              "Relation direction           0\n",
              "Stopping place               0\n",
              "Arrival line                 0\n",
              "Planned arrival date         0\n",
              "Planned departure date       0\n",
              "Actual arrival date          0\n",
              "Actual departure date        0\n",
              "dtype: int64"
            ]
          },
          "metadata": {},
          "execution_count": 17
        }
      ]
    },
    {
      "cell_type": "markdown",
      "metadata": {
        "id": "involved-prediction"
      },
      "source": [
        "I will consider the remaining features ```Delay at arrival``` and ```Delay at departure``` as my possible target features, for that reason I will not impute or replace missing values. I will drop all rows with missing values."
      ],
      "id": "involved-prediction"
    },
    {
      "cell_type": "code",
      "metadata": {
        "colab": {
          "base_uri": "https://localhost:8080/"
        },
        "id": "controlled-processing",
        "outputId": "10ad785f-9c7c-4a5c-8185-dc0aea256893"
      },
      "source": [
        "# How many rows I will delete\n",
        "\n",
        "df.isnull().any(axis=1).sum()"
      ],
      "id": "controlled-processing",
      "execution_count": null,
      "outputs": [
        {
          "output_type": "execute_result",
          "data": {
            "text/plain": [
              "7048"
            ]
          },
          "metadata": {},
          "execution_count": 18
        }
      ]
    },
    {
      "cell_type": "code",
      "metadata": {
        "id": "given-numbers"
      },
      "source": [
        "# Drop missing values\n",
        "\n",
        "df.dropna(subset=['Delay at arrival','Delay at departure'],inplace=True)"
      ],
      "id": "given-numbers",
      "execution_count": null,
      "outputs": []
    },
    {
      "cell_type": "code",
      "metadata": {
        "colab": {
          "base_uri": "https://localhost:8080/"
        },
        "id": "proper-sector",
        "outputId": "13c98f0f-94e1-4a7a-a77b-4328bc6802ec"
      },
      "source": [
        "# Checking if there are duplicate records\n",
        "\n",
        "df.duplicated().sum()"
      ],
      "id": "proper-sector",
      "execution_count": null,
      "outputs": [
        {
          "output_type": "execute_result",
          "data": {
            "text/plain": [
              "0"
            ]
          },
          "metadata": {},
          "execution_count": 20
        }
      ]
    },
    {
      "cell_type": "code",
      "metadata": {
        "id": "future-potter",
        "outputId": "9571eb73-0bd5-4e92-8878-62d8e3c8bb58",
        "colab": {
          "base_uri": "https://localhost:8080/"
        }
      },
      "source": [
        "df.columns"
      ],
      "id": "future-potter",
      "execution_count": null,
      "outputs": [
        {
          "output_type": "execute_result",
          "data": {
            "text/plain": [
              "Index(['Date of departure', 'Train number', 'Relation', 'Railway operator',\n",
              "       'Departure line', 'Actual arrival time', 'Actual departure time',\n",
              "       'Planned arrival time', 'Planned departure time', 'Delay at arrival',\n",
              "       'Delay at departure', 'Relation direction', 'Stopping place',\n",
              "       'Arrival line', 'Planned arrival date', 'Planned departure date',\n",
              "       'Actual arrival date', 'Actual departure date'],\n",
              "      dtype='object')"
            ]
          },
          "metadata": {},
          "execution_count": 21
        }
      ]
    },
    {
      "cell_type": "markdown",
      "metadata": {
        "id": "brilliant-thomas"
      },
      "source": [
        "# Fixing formats"
      ],
      "id": "brilliant-thomas"
    },
    {
      "cell_type": "code",
      "metadata": {
        "colab": {
          "base_uri": "https://localhost:8080/"
        },
        "id": "artificial-engagement",
        "outputId": "a378c1c3-3f43-4003-900b-3f2b59af6c5b"
      },
      "source": [
        "#Fixing time and date formats\n",
        "\n",
        "mylist=['Date of departure','Actual arrival time','Actual departure time',\n",
        "       'Planned arrival time', 'Planned departure time','Planned arrival date', 'Planned departure date',\n",
        "       'Actual arrival date', 'Actual departure date']\n",
        "\n",
        "for col in mylist:\n",
        "    df[col]=pd.to_datetime(df[col])\n",
        "    \n",
        "df.info()"
      ],
      "id": "artificial-engagement",
      "execution_count": null,
      "outputs": [
        {
          "output_type": "stream",
          "name": "stdout",
          "text": [
            "<class 'pandas.core.frame.DataFrame'>\n",
            "Int64Index: 65561 entries, 0 to 72608\n",
            "Data columns (total 18 columns):\n",
            " #   Column                  Non-Null Count  Dtype         \n",
            "---  ------                  --------------  -----         \n",
            " 0   Date of departure       65561 non-null  datetime64[ns]\n",
            " 1   Train number            65561 non-null  int64         \n",
            " 2   Relation                65561 non-null  object        \n",
            " 3   Railway operator        65561 non-null  object        \n",
            " 4   Departure line          65561 non-null  object        \n",
            " 5   Actual arrival time     65561 non-null  datetime64[ns]\n",
            " 6   Actual departure time   65561 non-null  datetime64[ns]\n",
            " 7   Planned arrival time    65561 non-null  datetime64[ns]\n",
            " 8   Planned departure time  65561 non-null  datetime64[ns]\n",
            " 9   Delay at arrival        65561 non-null  float64       \n",
            " 10  Delay at departure      65561 non-null  float64       \n",
            " 11  Relation direction      65561 non-null  object        \n",
            " 12  Stopping place          65561 non-null  object        \n",
            " 13  Arrival line            65561 non-null  object        \n",
            " 14  Planned arrival date    65561 non-null  datetime64[ns]\n",
            " 15  Planned departure date  65561 non-null  datetime64[ns]\n",
            " 16  Actual arrival date     65561 non-null  datetime64[ns]\n",
            " 17  Actual departure date   65561 non-null  datetime64[ns]\n",
            "dtypes: datetime64[ns](9), float64(2), int64(1), object(6)\n",
            "memory usage: 9.5+ MB\n"
          ]
        }
      ]
    },
    {
      "cell_type": "markdown",
      "metadata": {
        "id": "middle-lebanon"
      },
      "source": [
        "# Data Visualization"
      ],
      "id": "middle-lebanon"
    },
    {
      "cell_type": "code",
      "metadata": {
        "id": "polyphonic-moderator"
      },
      "source": [
        "df['hour_arrival']=df['Planned arrival time'].dt.hour"
      ],
      "id": "polyphonic-moderator",
      "execution_count": null,
      "outputs": []
    },
    {
      "cell_type": "code",
      "metadata": {
        "colab": {
          "base_uri": "https://localhost:8080/",
          "height": 350
        },
        "id": "interior-france",
        "outputId": "a65c6338-3ec0-4e93-e722-69a5299c3031"
      },
      "source": [
        "#Categorial features\n",
        "\n",
        "df['hour_arrival'].value_counts().sort_index()\n",
        "\n",
        "plt.figure(figsize=(7,5))\n",
        "sns.countplot(x='hour_arrival',data=df,color='teal')\n",
        "\n",
        "plt.title('Distribution of arrival by hour')\n",
        "plt.xlabel('Arrival Hour')\n",
        "plt.ylabel('Count')\n",
        "plt.show()"
      ],
      "id": "interior-france",
      "execution_count": null,
      "outputs": [
        {
          "output_type": "display_data",
          "data": {
            "text/plain": [
              "<Figure size 504x360 with 1 Axes>"
            ],
            "image/png": "[encoded data removed]"
          },
          "metadata": {
            "needs_background": "light"
          }
        }
      ]
    },
    {
      "cell_type": "code",
      "metadata": {
        "id": "spatial-terrace",
        "outputId": "08818841-4e5f-4b26-b48e-c3ba2261e9ea",
        "colab": {
          "base_uri": "https://localhost:8080/",
          "height": 350
        }
      },
      "source": [
        "plt.figure(figsize=(7,5))\n",
        "sns.countplot(x='Railway operator',data=df,color='teal')\n",
        "\n",
        "plt.title('Railway Operator Distribution')\n",
        "plt.xlabel('Railway Operator')\n",
        "plt.ylabel('Count')\n",
        "plt.show()"
      ],
      "id": "spatial-terrace",
      "execution_count": null,
      "outputs": [
        {
          "output_type": "display_data",
          "data": {
            "text/plain": [
              "<Figure size 504x360 with 1 Axes>"
            ],
            "image/png": "[encoded data removed]"
          },
          "metadata": {
            "needs_background": "light"
          }
        }
      ]
    },
    {
      "cell_type": "code",
      "metadata": {
        "id": "biological-denmark",
        "outputId": "be621ca0-7db3-4701-b481-999d25e9f0ca",
        "colab": {
          "base_uri": "https://localhost:8080/"
        }
      },
      "source": [
        "df['Relation direction'].value_counts()[0:6]"
      ],
      "id": "biological-denmark",
      "execution_count": null,
      "outputs": [
        {
          "output_type": "execute_result",
          "data": {
            "text/plain": [
              "not_given                                     4269\n",
              "IC 25: LIEGE-SAINT-LAMBERT -> MONS            1013\n",
              "IC 18: LIEGE-SAINT-LAMBERT -> BRUSSEL-ZUID     992\n",
              "IC 25: MONS -> LIEGE-SAINT-LAMBERT             967\n",
              "IC 18: BRUSSEL-ZUID -> LIEGE-SAINT-LAMBERT     936\n",
              "IC 16-1: LUXEMBOURG -> BRUSSEL-ZUID            915\n",
              "Name: Relation direction, dtype: int64"
            ]
          },
          "metadata": {},
          "execution_count": 26
        }
      ]
    },
    {
      "cell_type": "code",
      "metadata": {
        "id": "chinese-suspension",
        "outputId": "5709e1a3-c1d1-481c-cc07-3cfb3b507fc8",
        "colab": {
          "base_uri": "https://localhost:8080/",
          "height": 683
        }
      },
      "source": [
        "#Numeric features\n",
        "\n",
        "plt.figure(figsize=(7,5))\n",
        "sns.histplot(df['Delay at arrival'],stat='density',color='teal')\n",
        "plt.title('Histogram of Delay at arrival')\n",
        "plt.show()\n",
        "\n",
        "plt.figure(figsize=(7,5))\n",
        "sns.histplot(df['Delay at departure'],stat='density',color='teal')\n",
        "plt.title('Histogram of Delay at departure')\n",
        "plt.show()"
      ],
      "id": "chinese-suspension",
      "execution_count": null,
      "outputs": [
        {
          "output_type": "display_data",
          "data": {
            "text/plain": [
              "<Figure size 504x360 with 1 Axes>"
            ],
            "image/png": "[encoded data removed]"
          },
          "metadata": {
            "needs_background": "light"
          }
        },
        {
          "output_type": "display_data",
          "data": {
            "text/plain": [
              "<Figure size 504x360 with 1 Axes>"
            ],
            "image/png": "[encoded data removed]"
          },
          "metadata": {
            "needs_background": "light"
          }
        }
      ]
    },
    {
      "cell_type": "code",
      "metadata": {
        "id": "ethical-century",
        "outputId": "ad889a03-27b5-4f0d-9871-c2671f48f411",
        "colab": {
          "base_uri": "https://localhost:8080/",
          "height": 651
        }
      },
      "source": [
        "plt.figure(figsize=(7,5))\n",
        "sns.boxplot(x='Delay at arrival',data=df)\n",
        "plt.show()\n",
        "\n",
        "\n",
        "plt.figure(figsize=(7,5))\n",
        "sns.boxplot(x='Delay at departure',data=df)\n",
        "plt.show()"
      ],
      "id": "ethical-century",
      "execution_count": null,
      "outputs": [
        {
          "output_type": "display_data",
          "data": {
            "text/plain": [
              "<Figure size 504x360 with 1 Axes>"
            ],
            "image/png": "[encoded data removed]"
          },
          "metadata": {
            "needs_background": "light"
          }
        },
        {
          "output_type": "display_data",
          "data": {
            "text/plain": [
              "<Figure size 504x360 with 1 Axes>"
            ],
            "image/png": "[encoded data removed]"
          },
          "metadata": {
            "needs_background": "light"
          }
        }
      ]
    },
    {
      "cell_type": "code",
      "metadata": {
        "id": "speaking-syndicate",
        "outputId": "19d1ab3a-9f33-470b-c155-76d8bfd7546d",
        "colab": {
          "base_uri": "https://localhost:8080/"
        }
      },
      "source": [
        "# Count of unique values by feature\n",
        "\n",
        "for col in df.columns:\n",
        "    print(col,':',df[col].nunique())"
      ],
      "id": "speaking-syndicate",
      "execution_count": null,
      "outputs": [
        {
          "output_type": "stream",
          "name": "stdout",
          "text": [
            "Date of departure : 1\n",
            "Train number : 3510\n",
            "Relation : 98\n",
            "Railway operator : 3\n",
            "Departure line : 116\n",
            "Actual arrival time : 41698\n",
            "Actual departure time : 41610\n",
            "Planned arrival time : 1454\n",
            "Planned departure time : 1446\n",
            "Delay at arrival : 2017\n",
            "Delay at departure : 1963\n",
            "Relation direction : 199\n",
            "Stopping place : 591\n",
            "Arrival line : 119\n",
            "Planned arrival date : 2\n",
            "Planned departure date : 2\n",
            "Actual arrival date : 2\n",
            "Actual departure date : 2\n",
            "hour_arrival : 22\n"
          ]
        }
      ]
    },
    {
      "cell_type": "code",
      "metadata": {
        "id": "finnish-stick",
        "outputId": "2f5f5164-1837-4a17-df10-1814ed448b99",
        "colab": {
          "base_uri": "https://localhost:8080/",
          "height": 1000
        }
      },
      "source": [
        "# Departure line\n",
        "\n",
        "plt.figure(figsize=(20,18))\n",
        "plt.barh(df.groupby('Departure line')['Train number'].count().sort_values().index,df.groupby('Departure line')['Train number'].count().sort_values(),color='teal')\n",
        "\n",
        "plt.title('Distribution of Departure Line')\n",
        "plt.xlabel('Count')\n",
        "plt.ylabel('Departure Line')\n",
        "plt.show()"
      ],
      "id": "finnish-stick",
      "execution_count": null,
      "outputs": [
        {
          "output_type": "display_data",
          "data": {
            "text/plain": [
              "<Figure size 1440x1296 with 1 Axes>"
            ],
            "image/png": "[encoded data removed]"
          },
          "metadata": {
            "needs_background": "light"
          }
        }
      ]
    },
    {
      "cell_type": "markdown",
      "metadata": {
        "id": "liberal-cotton"
      },
      "source": [
        "# Feature Engineering and preprocessing"
      ],
      "id": "liberal-cotton"
    },
    {
      "cell_type": "markdown",
      "metadata": {
        "id": "comprehensive-borough"
      },
      "source": [
        "## Creating new features"
      ],
      "id": "comprehensive-borough"
    },
    {
      "cell_type": "code",
      "metadata": {
        "colab": {
          "base_uri": "https://localhost:8080/",
          "height": 960
        },
        "id": "special-edward",
        "outputId": "d23e7904-2384-498f-c096-398aa62a2265"
      },
      "source": [
        "# Count number of trains per railway line\n",
        "\n",
        "trains_line=pd.DataFrame(df.groupby('Arrival line')['Train number'].count().sort_values()).reset_index()\n",
        "trains_line.columns=['Arrival line','trains_line']\n",
        "print(trains_line.head())\n",
        "\n",
        "df.merge(trains_line,on='Arrival line')"
      ],
      "id": "special-edward",
      "execution_count": null,
      "outputs": [
        {
          "output_type": "stream",
          "name": "stdout",
          "text": [
            "  Arrival line  trains_line\n",
            "0          26B            1\n",
            "1          53A            1\n",
            "2         36/2            1\n",
            "3        27D/5            2\n",
            "4       130L/2            2\n"
          ]
        },
        {
          "output_type": "execute_result",
          "data": {
            "text/plain": [
              "      Date of departure  Train number Relation Railway operator  \\\n",
              "0            2021-02-22          2528    IC 17        SNCB/NMBS   \n",
              "1            2021-02-22          3987   L B8-1        SNCB/NMBS   \n",
              "2            2021-02-22          3987   L B8-1        SNCB/NMBS   \n",
              "3            2021-02-22          3987   L B8-1        SNCB/NMBS   \n",
              "4            2021-02-22          3987   L B8-1        SNCB/NMBS   \n",
              "...                 ...           ...      ...              ...   \n",
              "65556        2021-02-22          9264  IC 35-1        SNCB/NMBS   \n",
              "65557        2021-02-22          9692  IC 35-2        SNCB/NMBS   \n",
              "65558        2021-02-22          3703  IC 06-2        SNCB/NMBS   \n",
              "65559        2021-02-22          8009        P        SNCB/NMBS   \n",
              "65560        2021-02-22          8002        P        SNCB/NMBS   \n",
              "\n",
              "      Departure line Actual arrival time Actual departure time  \\\n",
              "0                161 2022-10-17 08:13:25   2022-10-17 08:13:25   \n",
              "1                161 2022-10-17 16:56:29   2022-10-17 16:56:37   \n",
              "2                161 2022-10-17 17:01:56   2022-10-17 17:02:56   \n",
              "3                161 2022-10-17 17:06:48   2022-10-17 17:06:48   \n",
              "4                161 2022-10-17 17:12:28   2022-10-17 17:12:28   \n",
              "...              ...                 ...                   ...   \n",
              "65556              4 2022-10-17 21:00:03   2022-10-17 21:03:21   \n",
              "65557              4 2022-10-17 08:00:07   2022-10-17 08:03:13   \n",
              "65558            36N 2022-10-17 04:16:50   2022-10-17 04:16:50   \n",
              "65559          27D/5 2022-10-17 16:46:41   2022-10-17 16:46:41   \n",
              "65560          27D/5 2022-10-17 17:13:05   2022-10-17 17:13:05   \n",
              "\n",
              "      Planned arrival time Planned departure time  Delay at arrival  \\\n",
              "0      2022-10-17 08:10:00    2022-10-17 08:10:00             205.0   \n",
              "1      2022-10-17 16:54:00    2022-10-17 16:55:00             149.0   \n",
              "2      2022-10-17 17:00:00    2022-10-17 17:01:00             116.0   \n",
              "3      2022-10-17 17:05:00    2022-10-17 17:05:00             108.0   \n",
              "4      2022-10-17 17:11:00    2022-10-17 17:11:00              88.0   \n",
              "...                    ...                    ...               ...   \n",
              "65556  2022-10-17 21:00:00    2022-10-17 21:01:00               3.0   \n",
              "65557  2022-10-17 08:00:00    2022-10-17 08:01:00               7.0   \n",
              "65558  2022-10-17 04:17:00    2022-10-17 04:17:00             -10.0   \n",
              "65559  2022-10-17 16:48:00    2022-10-17 16:48:00             -79.0   \n",
              "65560  2022-10-17 17:15:00    2022-10-17 17:15:00            -115.0   \n",
              "\n",
              "       Delay at departure                                Relation direction  \\\n",
              "0                   205.0      IC 17: DINANT -> BRUSSELS AIRPORT - ZAVENTEM   \n",
              "1                    97.0          L B8-1: LOUVAIN-LA-NEUVE -> BRUSSEL-ZUID   \n",
              "2                   116.0          L B8-1: LOUVAIN-LA-NEUVE -> BRUSSEL-ZUID   \n",
              "3                   108.0          L B8-1: LOUVAIN-LA-NEUVE -> BRUSSEL-ZUID   \n",
              "4                    88.0          L B8-1: LOUVAIN-LA-NEUVE -> BRUSSEL-ZUID   \n",
              "...                   ...                                               ...   \n",
              "65556               141.0       IC 35-1: AMSTERDAM CENTRAAL -> BRUSSEL-ZUID   \n",
              "65557               133.0  IC 35-2: DEN HAAG HOLLANDS SPOOR -> BRUSSEL-ZUID   \n",
              "65558               -10.0      IC 06-2: MONS -> BRUSSELS AIRPORT - ZAVENTEM   \n",
              "65559               -79.0                                         not_given   \n",
              "65560              -115.0                                         not_given   \n",
              "\n",
              "                  Stopping place Arrival line Planned arrival date  \\\n",
              "0                    GROENENDAAL          161           2021-02-22   \n",
              "1                      RIXENSART          161           2021-02-22   \n",
              "2                       LA HULPE          161           2021-02-22   \n",
              "3                    GROENENDAAL          161           2021-02-22   \n",
              "4                      WATERMAAL          161           2021-02-22   \n",
              "...                          ...          ...                  ...   \n",
              "65556              NOORDERKEMPEN            4           2021-02-22   \n",
              "65557              NOORDERKEMPEN            4           2021-02-22   \n",
              "65558                 SCHAARBEEK          26B           2021-02-22   \n",
              "65559  SCHAARBEEK-PERRON VORMING        27D/5           2021-02-22   \n",
              "65560  SCHAARBEEK-PERRON VORMING        27D/5           2021-02-22   \n",
              "\n",
              "      Planned departure date Actual arrival date Actual departure date  \\\n",
              "0                 2021-02-22          2021-02-22            2021-02-22   \n",
              "1                 2021-02-22          2021-02-22            2021-02-22   \n",
              "2                 2021-02-22          2021-02-22            2021-02-22   \n",
              "3                 2021-02-22          2021-02-22            2021-02-22   \n",
              "4                 2021-02-22          2021-02-22            2021-02-22   \n",
              "...                      ...                 ...                   ...   \n",
              "65556             2021-02-22          2021-02-22            2021-02-22   \n",
              "65557             2021-02-22          2021-02-22            2021-02-22   \n",
              "65558             2021-02-22          2021-02-22            2021-02-22   \n",
              "65559             2021-02-22          2021-02-22            2021-02-22   \n",
              "65560             2021-02-22          2021-02-22            2021-02-22   \n",
              "\n",
              "       hour_arrival  trains_line  \n",
              "0                 8         3477  \n",
              "1                16         3477  \n",
              "2                17         3477  \n",
              "3                17         3477  \n",
              "4                17         3477  \n",
              "...             ...          ...  \n",
              "65556            21           32  \n",
              "65557             8           32  \n",
              "65558             4            1  \n",
              "65559            16            2  \n",
              "65560            17            2  \n",
              "\n",
              "[65561 rows x 20 columns]"
            ],
            "text/html": [
              "\n",
              "  <div id=\"df-25ae4125-a956-43f4-8186-2de00f18f631\">\n",
              "    <div class=\"colab-df-container\">\n",
              "      <div>\n",
              "<style scoped>\n",
              "    .dataframe tbody tr th:only-of-type {\n",
              "        vertical-align: middle;\n",
              "    }\n",
              "\n",
              "    .dataframe tbody tr th {\n",
              "        vertical-align: top;\n",
              "    }\n",
              "\n",
              "    .dataframe thead th {\n",
              "        text-align: right;\n",
              "    }\n",
              "</style>\n",
              "<table border=\"1\" class=\"dataframe\">\n",
              "  <thead>\n",
              "    <tr style=\"text-align: right;\">\n",
              "      <th></th>\n",
              "      <th>Date of departure</th>\n",
              "      <th>Train number</th>\n",
              "      <th>Relation</th>\n",
              "      <th>Railway operator</th>\n",
              "      <th>Departure line</th>\n",
              "      <th>Actual arrival time</th>\n",
              "      <th>Actual departure time</th>\n",
              "      <th>Planned arrival time</th>\n",
              "      <th>Planned departure time</th>\n",
              "      <th>Delay at arrival</th>\n",
              "      <th>Delay at departure</th>\n",
              "      <th>Relation direction</th>\n",
              "      <th>Stopping place</th>\n",
              "      <th>Arrival line</th>\n",
              "      <th>Planned arrival date</th>\n",
              "      <th>Planned departure date</th>\n",
              "      <th>Actual arrival date</th>\n",
              "      <th>Actual departure date</th>\n",
              "      <th>hour_arrival</th>\n",
              "      <th>trains_line</th>\n",
              "    </tr>\n",
              "  </thead>\n",
              "  <tbody>\n",
              "    <tr>\n",
              "      <th>0</th>\n",
              "      <td>2021-02-22</td>\n",
              "      <td>2528</td>\n",
              "      <td>IC 17</td>\n",
              "      <td>SNCB/NMBS</td>\n",
              "      <td>161</td>\n",
              "      <td>2022-10-17 08:13:25</td>\n",
              "      <td>2022-10-17 08:13:25</td>\n",
              "      <td>2022-10-17 08:10:00</td>\n",
              "      <td>2022-10-17 08:10:00</td>\n",
              "      <td>205.0</td>\n",
              "      <td>205.0</td>\n",
              "      <td>IC 17: DINANT -&gt; BRUSSELS AIRPORT - ZAVENTEM</td>\n",
              "      <td>GROENENDAAL</td>\n",
              "      <td>161</td>\n",
              "      <td>2021-02-22</td>\n",
              "      <td>2021-02-22</td>\n",
              "      <td>2021-02-22</td>\n",
              "      <td>2021-02-22</td>\n",
              "      <td>8</td>\n",
              "      <td>3477</td>\n",
              "    </tr>\n",
              "    <tr>\n",
              "      <th>1</th>\n",
              "      <td>2021-02-22</td>\n",
              "      <td>3987</td>\n",
              "      <td>L B8-1</td>\n",
              "      <td>SNCB/NMBS</td>\n",
              "      <td>161</td>\n",
              "      <td>2022-10-17 16:56:29</td>\n",
              "      <td>2022-10-17 16:56:37</td>\n",
              "      <td>2022-10-17 16:54:00</td>\n",
              "      <td>2022-10-17 16:55:00</td>\n",
              "      <td>149.0</td>\n",
              "      <td>97.0</td>\n",
              "      <td>L B8-1: LOUVAIN-LA-NEUVE -&gt; BRUSSEL-ZUID</td>\n",
              "      <td>RIXENSART</td>\n",
              "      <td>161</td>\n",
              "      <td>2021-02-22</td>\n",
              "      <td>2021-02-22</td>\n",
              "      <td>2021-02-22</td>\n",
              "      <td>2021-02-22</td>\n",
              "      <td>16</td>\n",
              "      <td>3477</td>\n",
              "    </tr>\n",
              "    <tr>\n",
              "      <th>2</th>\n",
              "      <td>2021-02-22</td>\n",
              "      <td>3987</td>\n",
              "      <td>L B8-1</td>\n",
              "      <td>SNCB/NMBS</td>\n",
              "      <td>161</td>\n",
              "      <td>2022-10-17 17:01:56</td>\n",
              "      <td>2022-10-17 17:02:56</td>\n",
              "      <td>2022-10-17 17:00:00</td>\n",
              "      <td>2022-10-17 17:01:00</td>\n",
              "      <td>116.0</td>\n",
              "      <td>116.0</td>\n",
              "      <td>L B8-1: LOUVAIN-LA-NEUVE -&gt; BRUSSEL-ZUID</td>\n",
              "      <td>LA HULPE</td>\n",
              "      <td>161</td>\n",
              "      <td>2021-02-22</td>\n",
              "      <td>2021-02-22</td>\n",
              "      <td>2021-02-22</td>\n",
              "      <td>2021-02-22</td>\n",
              "      <td>17</td>\n",
              "      <td>3477</td>\n",
              "    </tr>\n",
              "    <tr>\n",
              "      <th>3</th>\n",
              "      <td>2021-02-22</td>\n",
              "      <td>3987</td>\n",
              "      <td>L B8-1</td>\n",
              "      <td>SNCB/NMBS</td>\n",
              "      <td>161</td>\n",
              "      <td>2022-10-17 17:06:48</td>\n",
              "      <td>2022-10-17 17:06:48</td>\n",
              "      <td>2022-10-17 17:05:00</td>\n",
              "      <td>2022-10-17 17:05:00</td>\n",
              "      <td>108.0</td>\n",
              "      <td>108.0</td>\n",
              "      <td>L B8-1: LOUVAIN-LA-NEUVE -&gt; BRUSSEL-ZUID</td>\n",
              "      <td>GROENENDAAL</td>\n",
              "      <td>161</td>\n",
              "      <td>2021-02-22</td>\n",
              "      <td>2021-02-22</td>\n",
              "      <td>2021-02-22</td>\n",
              "      <td>2021-02-22</td>\n",
              "      <td>17</td>\n",
              "      <td>3477</td>\n",
              "    </tr>\n",
              "    <tr>\n",
              "      <th>4</th>\n",
              "      <td>2021-02-22</td>\n",
              "      <td>3987</td>\n",
              "      <td>L B8-1</td>\n",
              "      <td>SNCB/NMBS</td>\n",
              "      <td>161</td>\n",
              "      <td>2022-10-17 17:12:28</td>\n",
              "      <td>2022-10-17 17:12:28</td>\n",
              "      <td>2022-10-17 17:11:00</td>\n",
              "      <td>2022-10-17 17:11:00</td>\n",
              "      <td>88.0</td>\n",
              "      <td>88.0</td>\n",
              "      <td>L B8-1: LOUVAIN-LA-NEUVE -&gt; BRUSSEL-ZUID</td>\n",
              "      <td>WATERMAAL</td>\n",
              "      <td>161</td>\n",
              "      <td>2021-02-22</td>\n",
              "      <td>2021-02-22</td>\n",
              "      <td>2021-02-22</td>\n",
              "      <td>2021-02-22</td>\n",
              "      <td>17</td>\n",
              "      <td>3477</td>\n",
              "    </tr>\n",
              "    <tr>\n",
              "      <th>...</th>\n",
              "      <td>...</td>\n",
              "      <td>...</td>\n",
              "      <td>...</td>\n",
              "      <td>...</td>\n",
              "      <td>...</td>\n",
              "      <td>...</td>\n",
              "      <td>...</td>\n",
              "      <td>...</td>\n",
              "      <td>...</td>\n",
              "      <td>...</td>\n",
              "      <td>...</td>\n",
              "      <td>...</td>\n",
              "      <td>...</td>\n",
              "      <td>...</td>\n",
              "      <td>...</td>\n",
              "      <td>...</td>\n",
              "      <td>...</td>\n",
              "      <td>...</td>\n",
              "      <td>...</td>\n",
              "      <td>...</td>\n",
              "    </tr>\n",
              "    <tr>\n",
              "      <th>65556</th>\n",
              "      <td>2021-02-22</td>\n",
              "      <td>9264</td>\n",
              "      <td>IC 35-1</td>\n",
              "      <td>SNCB/NMBS</td>\n",
              "      <td>4</td>\n",
              "      <td>2022-10-17 21:00:03</td>\n",
              "      <td>2022-10-17 21:03:21</td>\n",
              "      <td>2022-10-17 21:00:00</td>\n",
              "      <td>2022-10-17 21:01:00</td>\n",
              "      <td>3.0</td>\n",
              "      <td>141.0</td>\n",
              "      <td>IC 35-1: AMSTERDAM CENTRAAL -&gt; BRUSSEL-ZUID</td>\n",
              "      <td>NOORDERKEMPEN</td>\n",
              "      <td>4</td>\n",
              "      <td>2021-02-22</td>\n",
              "      <td>2021-02-22</td>\n",
              "      <td>2021-02-22</td>\n",
              "      <td>2021-02-22</td>\n",
              "      <td>21</td>\n",
              "      <td>32</td>\n",
              "    </tr>\n",
              "    <tr>\n",
              "      <th>65557</th>\n",
              "      <td>2021-02-22</td>\n",
              "      <td>9692</td>\n",
              "      <td>IC 35-2</td>\n",
              "      <td>SNCB/NMBS</td>\n",
              "      <td>4</td>\n",
              "      <td>2022-10-17 08:00:07</td>\n",
              "      <td>2022-10-17 08:03:13</td>\n",
              "      <td>2022-10-17 08:00:00</td>\n",
              "      <td>2022-10-17 08:01:00</td>\n",
              "      <td>7.0</td>\n",
              "      <td>133.0</td>\n",
              "      <td>IC 35-2: DEN HAAG HOLLANDS SPOOR -&gt; BRUSSEL-ZUID</td>\n",
              "      <td>NOORDERKEMPEN</td>\n",
              "      <td>4</td>\n",
              "      <td>2021-02-22</td>\n",
              "      <td>2021-02-22</td>\n",
              "      <td>2021-02-22</td>\n",
              "      <td>2021-02-22</td>\n",
              "      <td>8</td>\n",
              "      <td>32</td>\n",
              "    </tr>\n",
              "    <tr>\n",
              "      <th>65558</th>\n",
              "      <td>2021-02-22</td>\n",
              "      <td>3703</td>\n",
              "      <td>IC 06-2</td>\n",
              "      <td>SNCB/NMBS</td>\n",
              "      <td>36N</td>\n",
              "      <td>2022-10-17 04:16:50</td>\n",
              "      <td>2022-10-17 04:16:50</td>\n",
              "      <td>2022-10-17 04:17:00</td>\n",
              "      <td>2022-10-17 04:17:00</td>\n",
              "      <td>-10.0</td>\n",
              "      <td>-10.0</td>\n",
              "      <td>IC 06-2: MONS -&gt; BRUSSELS AIRPORT - ZAVENTEM</td>\n",
              "      <td>SCHAARBEEK</td>\n",
              "      <td>26B</td>\n",
              "      <td>2021-02-22</td>\n",
              "      <td>2021-02-22</td>\n",
              "      <td>2021-02-22</td>\n",
              "      <td>2021-02-22</td>\n",
              "      <td>4</td>\n",
              "      <td>1</td>\n",
              "    </tr>\n",
              "    <tr>\n",
              "      <th>65559</th>\n",
              "      <td>2021-02-22</td>\n",
              "      <td>8009</td>\n",
              "      <td>P</td>\n",
              "      <td>SNCB/NMBS</td>\n",
              "      <td>27D/5</td>\n",
              "      <td>2022-10-17 16:46:41</td>\n",
              "      <td>2022-10-17 16:46:41</td>\n",
              "      <td>2022-10-17 16:48:00</td>\n",
              "      <td>2022-10-17 16:48:00</td>\n",
              "      <td>-79.0</td>\n",
              "      <td>-79.0</td>\n",
              "      <td>not_given</td>\n",
              "      <td>SCHAARBEEK-PERRON VORMING</td>\n",
              "      <td>27D/5</td>\n",
              "      <td>2021-02-22</td>\n",
              "      <td>2021-02-22</td>\n",
              "      <td>2021-02-22</td>\n",
              "      <td>2021-02-22</td>\n",
              "      <td>16</td>\n",
              "      <td>2</td>\n",
              "    </tr>\n",
              "    <tr>\n",
              "      <th>65560</th>\n",
              "      <td>2021-02-22</td>\n",
              "      <td>8002</td>\n",
              "      <td>P</td>\n",
              "      <td>SNCB/NMBS</td>\n",
              "      <td>27D/5</td>\n",
              "      <td>2022-10-17 17:13:05</td>\n",
              "      <td>2022-10-17 17:13:05</td>\n",
              "      <td>2022-10-17 17:15:00</td>\n",
              "      <td>2022-10-17 17:15:00</td>\n",
              "      <td>-115.0</td>\n",
              "      <td>-115.0</td>\n",
              "      <td>not_given</td>\n",
              "      <td>SCHAARBEEK-PERRON VORMING</td>\n",
              "      <td>27D/5</td>\n",
              "      <td>2021-02-22</td>\n",
              "      <td>2021-02-22</td>\n",
              "      <td>2021-02-22</td>\n",
              "      <td>2021-02-22</td>\n",
              "      <td>17</td>\n",
              "      <td>2</td>\n",
              "    </tr>\n",
              "  </tbody>\n",
              "</table>\n",
              "<p>65561 rows × 20 columns</p>\n",
              "</div>\n",
              "      <button class=\"colab-df-convert\" onclick=\"convertToInteractive('df-25ae4125-a956-43f4-8186-2de00f18f631')\"\n",
              "              title=\"Convert this dataframe to an interactive table.\"\n",
              "              style=\"display:none;\">\n",
              "        \n",
              "  <svg xmlns=\"http://www.w3.org/2000/svg\" height=\"24px\"viewBox=\"0 0 24 24\"\n",
              "       width=\"24px\">\n",
              "    <path d=\"M0 0h24v24H0V0z\" fill=\"none\"/>\n",
              "    <path d=\"M18.56 5.44l.94 2.06.94-2.06 2.06-.94-2.06-.94-.94-2.06-.94 2.06-2.06.94zm-11 1L8.5 8.5l.94-2.06 2.06-.94-2.06-.94L8.5 2.5l-.94 2.06-2.06.94zm10 10l.94 2.06.94-2.06 2.06-.94-2.06-.94-.94-2.06-.94 2.06-2.06.94z\"/><path d=\"M17.41 7.96l-1.37-1.37c-.4-.4-.92-.59-1.43-.59-.52 0-1.04.2-1.43.59L10.3 9.45l-7.72 7.72c-.78.78-.78 2.05 0 2.83L4 21.41c.39.39.9.59 1.41.59.51 0 1.02-.2 1.41-.59l7.78-7.78 2.81-2.81c.8-.78.8-2.07 0-2.86zM5.41 20L4 18.59l7.72-7.72 1.47 1.35L5.41 20z\"/>\n",
              "  </svg>\n",
              "      </button>\n",
              "      \n",
              "  <style>\n",
              "    .colab-df-container {\n",
              "      display:flex;\n",
              "      flex-wrap:wrap;\n",
              "      gap: 12px;\n",
              "    }\n",
              "\n",
              "    .colab-df-convert {\n",
              "      background-color: #E8F0FE;\n",
              "      border: none;\n",
              "      border-radius: 50%;\n",
              "      cursor: pointer;\n",
              "      display: none;\n",
              "      fill: #1967D2;\n",
              "      height: 32px;\n",
              "      padding: 0 0 0 0;\n",
              "      width: 32px;\n",
              "    }\n",
              "\n",
              "    .colab-df-convert:hover {\n",
              "      background-color: #E2EBFA;\n",
              "      box-shadow: 0px 1px 2px rgba(60, 64, 67, 0.3), 0px 1px 3px 1px rgba(60, 64, 67, 0.15);\n",
              "      fill: #174EA6;\n",
              "    }\n",
              "\n",
              "    [theme=dark] .colab-df-convert {\n",
              "      background-color: #3B4455;\n",
              "      fill: #D2E3FC;\n",
              "    }\n",
              "\n",
              "    [theme=dark] .colab-df-convert:hover {\n",
              "      background-color: #434B5C;\n",
              "      box-shadow: 0px 1px 3px 1px rgba(0, 0, 0, 0.15);\n",
              "      filter: drop-shadow(0px 1px 2px rgba(0, 0, 0, 0.3));\n",
              "      fill: #FFFFFF;\n",
              "    }\n",
              "  </style>\n",
              "\n",
              "      <script>\n",
              "        const buttonEl =\n",
              "          document.querySelector('#df-25ae4125-a956-43f4-8186-2de00f18f631 button.colab-df-convert');\n",
              "        buttonEl.style.display =\n",
              "          google.colab.kernel.accessAllowed ? 'block' : 'none';\n",
              "\n",
              "        async function convertToInteractive(key) {\n",
              "          const element = document.querySelector('#df-25ae4125-a956-43f4-8186-2de00f18f631');\n",
              "          const dataTable =\n",
              "            await google.colab.kernel.invokeFunction('convertToInteractive',\n",
              "                                                     [key], {});\n",
              "          if (!dataTable) return;\n",
              "\n",
              "          const docLinkHtml = 'Like what you see? Visit the ' +\n",
              "            '<a target=\"_blank\" href=https://colab.research.google.com/notebooks/data_table.ipynb>data table notebook</a>'\n",
              "            + ' to learn more about interactive tables.';\n",
              "          element.innerHTML = '';\n",
              "          dataTable['output_type'] = 'display_data';\n",
              "          await google.colab.output.renderOutput(dataTable, element);\n",
              "          const docLink = document.createElement('div');\n",
              "          docLink.innerHTML = docLinkHtml;\n",
              "          element.appendChild(docLink);\n",
              "        }\n",
              "      </script>\n",
              "    </div>\n",
              "  </div>\n",
              "  "
            ]
          },
          "metadata": {},
          "execution_count": 31
        }
      ]
    },
    {
      "cell_type": "code",
      "metadata": {
        "id": "synthetic-turkish"
      },
      "source": [
        "# Rush hour?\n",
        "\n",
        "mapping={0:\"no rush\",1:\"no rush\",4:\"no rush\",5:\"no rush\",6:\"rush\",7:\"rush\",8:\"rush\",9:\"rush\",10:\"rush\",11:\"rush\",12:\"rush\",13:\"rush\",14:\"rush\",15:\"rush\",16:\"rush\",17:\"rush\",18:\"rush\",19:\"no rush\",20:\"no rush\",21:\"no rush\",22:\"no rush\",23:\"no rush\"\n",
        "}\n",
        "\n",
        "df['rush_hour']=df.hour_arrival.map(mapping)\n"
      ],
      "id": "synthetic-turkish",
      "execution_count": null,
      "outputs": []
    },
    {
      "cell_type": "code",
      "metadata": {
        "id": "affecting-blocking"
      },
      "source": [
        "# Difference between delays (arrival and departure)\n",
        "\n",
        "df['difference']=df['Delay at departure']-df['Delay at arrival']"
      ],
      "id": "affecting-blocking",
      "execution_count": null,
      "outputs": []
    },
    {
      "cell_type": "code",
      "metadata": {
        "id": "quarterly-vanilla"
      },
      "source": [
        "# Train arrive at same line?\n",
        "\n",
        "df['same_line']=0\n",
        "\n",
        "df.loc[df[(df['Arrival line'])==(df['Departure line'])].index,'same_line']=1"
      ],
      "id": "quarterly-vanilla",
      "execution_count": null,
      "outputs": []
    },
    {
      "cell_type": "markdown",
      "metadata": {
        "id": "literary-stand"
      },
      "source": [
        "## Subsetting dataframe"
      ],
      "id": "literary-stand"
    },
    {
      "cell_type": "code",
      "metadata": {
        "colab": {
          "base_uri": "https://localhost:8080/"
        },
        "id": "cultural-computer",
        "outputId": "a27742c9-5098-44d3-ef98-f2707fc67832"
      },
      "source": [
        "# Subsetting dataframe\n",
        "\n",
        "print(df.columns)\n",
        "\n",
        "df=df[['Relation','Railway operator','Departure line','Delay at arrival','Delay at departure','hour_arrival','rush_hour', 'difference','same_line']]"
      ],
      "id": "cultural-computer",
      "execution_count": null,
      "outputs": [
        {
          "output_type": "stream",
          "name": "stdout",
          "text": [
            "Index(['Date of departure', 'Train number', 'Relation', 'Railway operator',\n",
            "       'Departure line', 'Actual arrival time', 'Actual departure time',\n",
            "       'Planned arrival time', 'Planned departure time', 'Delay at arrival',\n",
            "       'Delay at departure', 'Relation direction', 'Stopping place',\n",
            "       'Arrival line', 'Planned arrival date', 'Planned departure date',\n",
            "       'Actual arrival date', 'Actual departure date', 'hour_arrival',\n",
            "       'rush_hour', 'difference', 'same_line'],\n",
            "      dtype='object')\n"
          ]
        }
      ]
    },
    {
      "cell_type": "code",
      "metadata": {
        "id": "interstate-snowboard",
        "outputId": "740b47ac-a7bc-4b99-bd7b-600ececf8bd7",
        "colab": {
          "base_uri": "https://localhost:8080/",
          "height": 350
        }
      },
      "source": [
        "# Exploring new numeric feature\n",
        "\n",
        "plt.figure(figsize=(7,5))\n",
        "sns.histplot(df['difference'],stat='density',color='teal')\n",
        "plt.title('Histogram of difference')\n",
        "plt.show()"
      ],
      "id": "interstate-snowboard",
      "execution_count": null,
      "outputs": [
        {
          "output_type": "display_data",
          "data": {
            "text/plain": [
              "<Figure size 504x360 with 1 Axes>"
            ],
            "image/png": "[encoded data removed]"
          },
          "metadata": {
            "needs_background": "light"
          }
        }
      ]
    },
    {
      "cell_type": "code",
      "metadata": {
        "id": "cooked-consumer",
        "outputId": "d7be25e3-5075-44eb-94b8-035f18adee6d",
        "colab": {
          "base_uri": "https://localhost:8080/"
        }
      },
      "source": [
        "df.info()"
      ],
      "id": "cooked-consumer",
      "execution_count": null,
      "outputs": [
        {
          "output_type": "stream",
          "name": "stdout",
          "text": [
            "<class 'pandas.core.frame.DataFrame'>\n",
            "Int64Index: 65561 entries, 0 to 72608\n",
            "Data columns (total 9 columns):\n",
            " #   Column              Non-Null Count  Dtype  \n",
            "---  ------              --------------  -----  \n",
            " 0   Relation            65561 non-null  object \n",
            " 1   Railway operator    65561 non-null  object \n",
            " 2   Departure line      65561 non-null  object \n",
            " 3   Delay at arrival    65561 non-null  float64\n",
            " 4   Delay at departure  65561 non-null  float64\n",
            " 5   hour_arrival        65561 non-null  int64  \n",
            " 6   rush_hour           65561 non-null  object \n",
            " 7   difference          65561 non-null  float64\n",
            " 8   same_line           65561 non-null  int64  \n",
            "dtypes: float64(3), int64(2), object(4)\n",
            "memory usage: 7.0+ MB\n"
          ]
        }
      ]
    },
    {
      "cell_type": "code",
      "metadata": {
        "id": "occasional-repository"
      },
      "source": [
        "# rename colums\n",
        "\n",
        "df.columns=['relation','operator','line','delay_arrival','delay_departure','hour_arrival','rush_hour','difference','same_line']\n",
        "\n",
        "# Change feature type\n",
        "\n",
        "df.hour_arrival=df.hour_arrival.astype('object')\n",
        "\n"
      ],
      "id": "occasional-repository",
      "execution_count": null,
      "outputs": []
    },
    {
      "cell_type": "markdown",
      "metadata": {
        "id": "native-sunrise"
      },
      "source": [
        "## Getting dummy variables"
      ],
      "id": "native-sunrise"
    },
    {
      "cell_type": "code",
      "metadata": {
        "id": "connected-employee"
      },
      "source": [
        "# Getting dummy variables\n",
        "\n",
        "pd.get_dummies(df,drop_first=True)\n",
        "\n",
        "df=pd.get_dummies(df,drop_first=True)"
      ],
      "id": "connected-employee",
      "execution_count": null,
      "outputs": []
    },
    {
      "cell_type": "code",
      "metadata": {
        "colab": {
          "base_uri": "https://localhost:8080/"
        },
        "id": "broadband-nurse",
        "outputId": "4d978cae-11a5-4062-8f63-e8f27c666b37"
      },
      "source": [
        "df.shape"
      ],
      "id": "broadband-nurse",
      "execution_count": null,
      "outputs": [
        {
          "output_type": "execute_result",
          "data": {
            "text/plain": [
              "(65561, 240)"
            ]
          },
          "metadata": {},
          "execution_count": 40
        }
      ]
    },
    {
      "cell_type": "markdown",
      "metadata": {
        "id": "relative-pacific"
      },
      "source": [
        "## Split dataframe into X, y and train/test"
      ],
      "id": "relative-pacific"
    },
    {
      "cell_type": "code",
      "metadata": {
        "id": "adjustable-resident"
      },
      "source": [
        "# Split X and y\n",
        "\n",
        "y=df[['delay_departure']]\n",
        "\n",
        "X=df.drop(columns=['delay_departure'])\n",
        "\n"
      ],
      "id": "adjustable-resident",
      "execution_count": null,
      "outputs": []
    },
    {
      "cell_type": "code",
      "metadata": {
        "id": "medical-transfer"
      },
      "source": [
        "# Split data into train and test\n",
        "\n",
        "X_train, X_test, y_train, y_test = train_test_split(X, y, test_size=0.3, random_state=123)"
      ],
      "id": "medical-transfer",
      "execution_count": null,
      "outputs": []
    },
    {
      "cell_type": "markdown",
      "metadata": {
        "id": "phantom-recovery"
      },
      "source": [
        "## Outlier detection\n",
        "\n"
      ],
      "id": "phantom-recovery"
    },
    {
      "cell_type": "code",
      "metadata": {
        "id": "peripheral-perception"
      },
      "source": [
        "# At this point I will define a function to do that task\n",
        "\n",
        "def modify_outliers_mean(data,features):\n",
        "\n",
        "  '''\n",
        "  This function modifies outliers with mean.\n",
        "  First, the function detects outliers with Z-score, then calculates the mean of\n",
        "  the feature without outliers,and finally, replaces outliers with the calculated\n",
        "  mean.\n",
        "  Parameters:\n",
        "  -------------------\n",
        "  data: dataset to be analyzed\n",
        "  features: List of numerical features in the dataset\n",
        "  '''\n",
        "\n",
        "  to_del=[]\n",
        "  for i in features:\n",
        "\n",
        "    #Initialize null lists\n",
        "    ind_upper=[]\n",
        "    ind_lower=[]\n",
        "    ind=[]\n",
        "\n",
        "    #Calculate Z score\n",
        "    data['Z_score']=(data[i]-data[i].mean())/data[i].std()\n",
        "    print(data[(data['Z_score']>3) | (data['Z_score']<-3)].shape[0],' outliers detected for ',i)\n",
        "    to_del.append(data[(data['Z_score']>3) | (data['Z_score']<-3)].shape[0])\n",
        "    \n",
        "    #Identified outliers\n",
        "    ind=data[(data['Z_score']>3) | (data['Z_score']<-3)].index\n",
        "    \n",
        "    #Calculate mean to replace outlier\n",
        "\n",
        "    mean_to_replace=data[(data['Z_score']<3) & (data['Z_score']>-3)][i].mean()\n",
        "    \n",
        "    #Replacing outliers\n",
        "    data.loc[ind,i]=mean_to_replace\n",
        "\n",
        "  print('total outliers modified: ',sum(to_del))\n",
        "  data.drop(columns='Z_score',inplace=True)"
      ],
      "id": "peripheral-perception",
      "execution_count": null,
      "outputs": []
    },
    {
      "cell_type": "code",
      "metadata": {
        "colab": {
          "base_uri": "https://localhost:8080/"
        },
        "id": "unknown-queen",
        "outputId": "4252863f-f71f-4163-e846-7b8e2d053254"
      },
      "source": [
        "# Outlier detection with custom function\n",
        "\n",
        "X_train=pd.DataFrame(data=X_train,columns=df.drop(columns=['delay_departure']).columns)\n",
        "\n",
        "modify_outliers_mean(X_train,['delay_arrival','difference'])"
      ],
      "id": "unknown-queen",
      "execution_count": null,
      "outputs": [
        {
          "output_type": "stream",
          "name": "stdout",
          "text": [
            "782  outliers detected for  delay_arrival\n",
            "426  outliers detected for  difference\n",
            "total outliers modified:  1208\n"
          ]
        }
      ]
    },
    {
      "cell_type": "markdown",
      "metadata": {
        "id": "flexible-equation"
      },
      "source": [
        "## Scaling features"
      ],
      "id": "flexible-equation"
    },
    {
      "cell_type": "code",
      "metadata": {
        "id": "approximate-mayor"
      },
      "source": [
        "# Scale numerical features\n",
        "\n",
        "scaler=StandardScaler()\n",
        "\n",
        "# Fit the scaler\n",
        "\n",
        "scaler.fit(X_train[['delay_arrival','difference']])\n",
        "\n",
        "# Tranform data\n",
        "\n",
        "X_train_tranform=scaler.transform(X_train[['delay_arrival','difference']])\n",
        "X_test_tranform=scaler.transform(X_test[['delay_arrival','difference']])\n",
        "\n",
        "# Replace in original data\n",
        "\n",
        "X_train[['delay_arrival','difference']]=X_train_tranform\n",
        "X_test[['delay_arrival','difference']]=X_test_tranform"
      ],
      "id": "approximate-mayor",
      "execution_count": null,
      "outputs": []
    },
    {
      "cell_type": "markdown",
      "metadata": {
        "id": "announced-machinery"
      },
      "source": [
        "## Principal component analysis\n"
      ],
      "id": "announced-machinery"
    },
    {
      "cell_type": "markdown",
      "metadata": {
        "id": "elect-amber"
      },
      "source": [
        "The current number of columns (features) of the ```X_train``` and ```X_test``` is 239. I'm gonna explore PCA in order to reduce dimensionalit of data"
      ],
      "id": "elect-amber"
    },
    {
      "cell_type": "code",
      "metadata": {
        "id": "useful-norman",
        "colab": {
          "base_uri": "https://localhost:8080/"
        },
        "outputId": "a4e62490-864d-45e4-f553-bf3ceef6cfb6"
      },
      "source": [
        "#Initialize PCA. I want to retain 95% of explained variance\n",
        "\n",
        "pca=PCA(0.95)\n",
        "\n",
        "# Fit PCA\n",
        "\n",
        "pca.fit(X_train)\n",
        "\n",
        "# Number of components\n",
        "\n",
        "print('Components (features) after running PCA: ',pca.n_components_)\n",
        "\n"
      ],
      "id": "useful-norman",
      "execution_count": null,
      "outputs": [
        {
          "output_type": "stream",
          "name": "stdout",
          "text": [
            "Components (features) after running PCA:  108\n"
          ]
        }
      ]
    },
    {
      "cell_type": "code",
      "metadata": {
        "id": "numeric-greenhouse"
      },
      "source": [
        "# Transform data\n",
        "\n",
        "X_train=pca.transform(X_train)\n",
        "X_test=pca.transform(X_test)"
      ],
      "id": "numeric-greenhouse",
      "execution_count": null,
      "outputs": []
    },
    {
      "cell_type": "markdown",
      "metadata": {
        "id": "great-istanbul"
      },
      "source": [
        "# Modeling"
      ],
      "id": "great-istanbul"
    },
    {
      "cell_type": "markdown",
      "metadata": {
        "id": "absolute-sitting"
      },
      "source": [
        "In this step I'm gonna run differente machine learning models, specially CART models."
      ],
      "id": "absolute-sitting"
    },
    {
      "cell_type": "code",
      "metadata": {
        "id": "animated-opinion"
      },
      "source": [
        "# Initialize models\n",
        "\n",
        "rf=RandomForestRegressor()\n",
        "xgb=XGBRegressor()\n",
        "gb=GradientBoostingRegressor()\n",
        "lr=LinearRegression()"
      ],
      "id": "animated-opinion",
      "execution_count": null,
      "outputs": []
    },
    {
      "cell_type": "code",
      "metadata": {
        "id": "corporate-sitting",
        "colab": {
          "base_uri": "https://localhost:8080/"
        },
        "outputId": "2678ae8c-5b9d-44ab-ecb5-dcab15201c34"
      },
      "source": [
        "\n",
        "%time mse_cv_rf=-cross_val_score(rf,X_train,y_train,cv=5,scoring='neg_mean_squared_error')\n",
        "%time mse_cv_xgb=-cross_val_score(xgb,X_train,y_train,cv=5,scoring='neg_mean_squared_error')\n",
        "%time mse_cv_gb=-cross_val_score(gb,X_train,y_train,cv=5,scoring='neg_mean_squared_error')\n",
        "%time mse_cv_lr=cross_val_score(lr,X_train,y_train,cv=5,scoring='neg_mean_squared_error')"
      ],
      "id": "corporate-sitting",
      "execution_count": null,
      "outputs": [
        {
          "output_type": "stream",
          "text": [
            "/usr/local/lib/python3.7/dist-packages/sklearn/model_selection/_validation.py:515: DataConversionWarning: A column-vector y was passed when a 1d array was expected. Please change the shape of y to (n_samples,), for example using ravel().\n",
            "  estimator.fit(X_train, y_train, **fit_params)\n",
            "/usr/local/lib/python3.7/dist-packages/sklearn/model_selection/_validation.py:515: DataConversionWarning: A column-vector y was passed when a 1d array was expected. Please change the shape of y to (n_samples,), for example using ravel().\n",
            "  estimator.fit(X_train, y_train, **fit_params)\n",
            "/usr/local/lib/python3.7/dist-packages/sklearn/model_selection/_validation.py:515: DataConversionWarning: A column-vector y was passed when a 1d array was expected. Please change the shape of y to (n_samples,), for example using ravel().\n",
            "  estimator.fit(X_train, y_train, **fit_params)\n",
            "/usr/local/lib/python3.7/dist-packages/sklearn/model_selection/_validation.py:515: DataConversionWarning: A column-vector y was passed when a 1d array was expected. Please change the shape of y to (n_samples,), for example using ravel().\n",
            "  estimator.fit(X_train, y_train, **fit_params)\n",
            "/usr/local/lib/python3.7/dist-packages/sklearn/model_selection/_validation.py:515: DataConversionWarning: A column-vector y was passed when a 1d array was expected. Please change the shape of y to (n_samples,), for example using ravel().\n",
            "  estimator.fit(X_train, y_train, **fit_params)\n"
          ],
          "name": "stderr"
        },
        {
          "output_type": "stream",
          "text": [
            "CPU times: user 46min 2s, sys: 2.22 s, total: 46min 4s\n",
            "Wall time: 45min 50s\n",
            "[22:48:35] WARNING: /workspace/src/objective/regression_obj.cu:152: reg:linear is now deprecated in favor of reg:squarederror.\n",
            "[22:49:00] WARNING: /workspace/src/objective/regression_obj.cu:152: reg:linear is now deprecated in favor of reg:squarederror.\n",
            "[22:49:24] WARNING: /workspace/src/objective/regression_obj.cu:152: reg:linear is now deprecated in favor of reg:squarederror.\n",
            "[22:49:49] WARNING: /workspace/src/objective/regression_obj.cu:152: reg:linear is now deprecated in favor of reg:squarederror.\n",
            "[22:50:13] WARNING: /workspace/src/objective/regression_obj.cu:152: reg:linear is now deprecated in favor of reg:squarederror.\n",
            "CPU times: user 2min 3s, sys: 126 ms, total: 2min 3s\n",
            "Wall time: 2min 2s\n"
          ],
          "name": "stdout"
        },
        {
          "output_type": "stream",
          "text": [
            "/usr/local/lib/python3.7/dist-packages/sklearn/ensemble/_gb.py:1454: DataConversionWarning: A column-vector y was passed when a 1d array was expected. Please change the shape of y to (n_samples, ), for example using ravel().\n",
            "  y = column_or_1d(y, warn=True)\n",
            "/usr/local/lib/python3.7/dist-packages/sklearn/ensemble/_gb.py:1454: DataConversionWarning: A column-vector y was passed when a 1d array was expected. Please change the shape of y to (n_samples, ), for example using ravel().\n",
            "  y = column_or_1d(y, warn=True)\n",
            "/usr/local/lib/python3.7/dist-packages/sklearn/ensemble/_gb.py:1454: DataConversionWarning: A column-vector y was passed when a 1d array was expected. Please change the shape of y to (n_samples, ), for example using ravel().\n",
            "  y = column_or_1d(y, warn=True)\n",
            "/usr/local/lib/python3.7/dist-packages/sklearn/ensemble/_gb.py:1454: DataConversionWarning: A column-vector y was passed when a 1d array was expected. Please change the shape of y to (n_samples, ), for example using ravel().\n",
            "  y = column_or_1d(y, warn=True)\n",
            "/usr/local/lib/python3.7/dist-packages/sklearn/ensemble/_gb.py:1454: DataConversionWarning: A column-vector y was passed when a 1d array was expected. Please change the shape of y to (n_samples, ), for example using ravel().\n",
            "  y = column_or_1d(y, warn=True)\n"
          ],
          "name": "stderr"
        },
        {
          "output_type": "stream",
          "text": [
            "CPU times: user 14min 46s, sys: 712 ms, total: 14min 47s\n",
            "Wall time: 14min 42s\n",
            "CPU times: user 3.41 s, sys: 642 ms, total: 4.06 s\n",
            "Wall time: 2.16 s\n"
          ],
          "name": "stdout"
        }
      ]
    },
    {
      "cell_type": "code",
      "metadata": {
        "id": "better-healthcare",
        "scrolled": true,
        "outputId": "096a2f3c-0c7e-486a-b5ab-71a923e0f64f"
      },
      "source": [],
      "id": "better-healthcare",
      "execution_count": null,
      "outputs": [
        {
          "output_type": "stream",
          "text": [
            "C:\\ProgramData\\Anaconda3\\lib\\site-packages\\sklearn\\utils\\validation.py:72: DataConversionWarning: A column-vector y was passed when a 1d array was expected. Please change the shape of y to (n_samples, ), for example using ravel().\n",
            "  return f(**kwargs)\n",
            "C:\\ProgramData\\Anaconda3\\lib\\site-packages\\sklearn\\utils\\validation.py:72: DataConversionWarning: A column-vector y was passed when a 1d array was expected. Please change the shape of y to (n_samples, ), for example using ravel().\n",
            "  return f(**kwargs)\n",
            "C:\\ProgramData\\Anaconda3\\lib\\site-packages\\sklearn\\utils\\validation.py:72: DataConversionWarning: A column-vector y was passed when a 1d array was expected. Please change the shape of y to (n_samples, ), for example using ravel().\n",
            "  return f(**kwargs)\n",
            "C:\\ProgramData\\Anaconda3\\lib\\site-packages\\sklearn\\utils\\validation.py:72: DataConversionWarning: A column-vector y was passed when a 1d array was expected. Please change the shape of y to (n_samples, ), for example using ravel().\n",
            "  return f(**kwargs)\n",
            "C:\\ProgramData\\Anaconda3\\lib\\site-packages\\sklearn\\utils\\validation.py:72: DataConversionWarning: A column-vector y was passed when a 1d array was expected. Please change the shape of y to (n_samples, ), for example using ravel().\n",
            "  return f(**kwargs)\n"
          ],
          "name": "stderr"
        },
        {
          "output_type": "stream",
          "text": [
            "Wall time: 13min\n",
            "Wall time: 934 ms\n"
          ],
          "name": "stdout"
        }
      ]
    },
    {
      "cell_type": "code",
      "metadata": {
        "id": "humanitarian-oxide",
        "colab": {
          "base_uri": "https://localhost:8080/"
        },
        "outputId": "721213af-2e89-49b2-9f22-e2c5e501f756"
      },
      "source": [
        "print('Random Forest Root MSE: ',round(mse_cv_rf.mean()**(1/2)))\n",
        "print('XGBoost Root MSE: ',round(mse_cv_xgb.mean()**(1/2)))\n",
        "print('Gradient Boosting Root MSE: ',round(mse_cv_gb.mean()**(1/2)))\n",
        "print('Linear Regression: ',round((mse_cv_lr.mean()*-1)**(1/2)))"
      ],
      "id": "humanitarian-oxide",
      "execution_count": null,
      "outputs": [
        {
          "output_type": "stream",
          "text": [
            "Random Forest Root MSE:  162\n",
            "XGBoost Root MSE:  194\n",
            "Gradient Boosting Root MSE:  192\n",
            "Linear Regression:  279\n"
          ],
          "name": "stdout"
        }
      ]
    },
    {
      "cell_type": "markdown",
      "metadata": {
        "id": "respective-syntax"
      },
      "source": [
        "Computing time for transformed features with PCA took almost 25 minutes. Let's try the same with untransformed features"
      ],
      "id": "respective-syntax"
    },
    {
      "cell_type": "code",
      "metadata": {
        "colab": {
          "base_uri": "https://localhost:8080/"
        },
        "id": "recreational-likelihood",
        "scrolled": true,
        "outputId": "becf3c45-7521-43eb-938a-65e06592cbb3"
      },
      "source": [
        "# Initialize models\n",
        "\n",
        "rf=RandomForestRegressor(random_state=123)\n",
        "xgb=XGBRegressor(objective='reg:squarederror',random_state=123)\n",
        "gb=GradientBoostingRegressor(random_state=123)\n",
        "lr=LinearRegression()\n",
        "\n",
        "\n",
        "%time mse_cv_rf=-cross_val_score(rf,X_train.values,y_train.values.ravel(),cv=5,scoring='neg_mean_squared_error',n_jobs=-1)\n",
        "%time mse_cv_xgb=-cross_val_score(xgb,X_train.values,y_train.values.ravel(),cv=5,scoring='neg_mean_squared_error',n_jobs=-1)\n",
        "%time mse_cv_gb=-cross_val_score(gb,X_train.values,y_train.values.ravel(),cv=5,scoring='neg_mean_squared_error',n_jobs=-1)\n",
        "%time mse_cv_lr=-cross_val_score(lr,X_train.values,y_train.values.ravel(),cv=5,scoring='neg_mean_squared_error',n_jobs=-1)\n",
        "\n",
        "print('\\nRandom Forest Root MSE: ',round(mse_cv_rf.mean()**(1/2)))\n",
        "print('XGBoost Root MSE: ',round(mse_cv_xgb.mean()**(1/2)))\n",
        "print('Gradient Boosting Root MSE: ',round(mse_cv_gb.mean()**(1/2)))\n",
        "print('Linear Regression: ',round(mse_cv_lr.mean()**(1/2)))\n",
        "\n"
      ],
      "id": "recreational-likelihood",
      "execution_count": null,
      "outputs": [
        {
          "output_type": "stream",
          "text": [
            "CPU times: user 1.3 s, sys: 297 ms, total: 1.59 s\n",
            "Wall time: 3min 28s\n",
            "CPU times: user 545 ms, sys: 102 ms, total: 648 ms\n",
            "Wall time: 1min 15s\n",
            "CPU times: user 1.21 s, sys: 197 ms, total: 1.41 s\n",
            "Wall time: 3min\n",
            "CPU times: user 112 ms, sys: 59 ms, total: 171 ms\n",
            "Wall time: 4.51 s\n",
            "\n",
            "Random Forest Root MSE:  86\n",
            "XGBoost Root MSE:  122\n",
            "Gradient Boosting Root MSE:  124\n",
            "Linear Regression:  685956\n"
          ],
          "name": "stdout"
        }
      ]
    },
    {
      "cell_type": "markdown",
      "metadata": {
        "id": "linear-delay"
      },
      "source": [
        "From the above we can see that origial data perfoms better, computing time was smaller and performance had an good improvement.\n",
        "\n",
        "|                                   | Computing Time (PCA) | RMSE (PCA) | Computing Time (No PCA) | RMSE (No PCA) |\n",
        "|-----------------------------------|:--------------------:|:----------:|:-----------------------:|:-------------:|\n",
        "| Linear Regression (Baseline Model | < 1 seg              | 279 Seg    | < 1 Seg                 | 1E12 Seg      |\n",
        "| Random Forest                     | 10 Min               | 223 Seg    | 11 Min                  | 85 Seg        |\n",
        "| XGBoost                           | 2 Min                | 152 Seg    | 1.5 Min                 | 89 Seg        |\n",
        "| Gradient Boosting                 | 12 Min               | 192 Seg    | 1.5 Min                 | 124 Seg       |"
      ],
      "id": "linear-delay"
    },
    {
      "cell_type": "markdown",
      "metadata": {
        "id": "ethical-survival"
      },
      "source": [
        "# Hyperparameter tuning"
      ],
      "id": "ethical-survival"
    },
    {
      "cell_type": "markdown",
      "metadata": {
        "id": "victorian-thumbnail"
      },
      "source": [
        "Based on the previous results regarding performance and computing time, I decided to select the XGBoost model to improve hyperparameter tuning and get better results, reducing my error metric which is RMSE"
      ],
      "id": "victorian-thumbnail"
    },
    {
      "cell_type": "code",
      "metadata": {
        "colab": {
          "base_uri": "https://localhost:8080/",
          "height": 408
        },
        "id": "verified-gabriel",
        "outputId": "d5c7ebef-57b5-4828-8cf3-4824a0336201"
      },
      "source": [
        "# Apply gridsearch to XGBregressor\n",
        "\n",
        "from sklearn.model_selection import RandomizedSearchCV\n",
        "\n",
        "xgb=XGBRegressor(objective='reg:squarederror',random_state=123)\n",
        "grid={\n",
        "    'colsample_bytree':[0.3,0.6,0.9],\n",
        "    'learning_rate':[0.001, 0.01, 0.1,0.2,0.3],\n",
        "    'max_depth':[2,5,10,15],\n",
        "    'n_estimators':[200,600,2000],\n",
        "    \n",
        "    \n",
        "}\n",
        "\n",
        "randomized_mse = RandomizedSearchCV(estimator=xgb,param_distributions=grid,scoring='neg_mean_squared_error',cv=4,verbose=3,n_jobs=-1)\n",
        "\n",
        "randomized_mse.fit(X_train.values,y_train.values.ravel())\n",
        "\n",
        "rmse=(randomized_mse.best_score_*-1)**0.5\n",
        "\n",
        "print('Best RMSE: ',rmse)"
      ],
      "id": "verified-gabriel",
      "execution_count": null,
      "outputs": [
        {
          "output_type": "stream",
          "text": [
            "Fitting 4 folds for each of 10 candidates, totalling 40 fits\n"
          ],
          "name": "stdout"
        },
        {
          "output_type": "stream",
          "text": [
            "[Parallel(n_jobs=-1)]: Using backend LokyBackend with 2 concurrent workers.\n"
          ],
          "name": "stderr"
        },
        {
          "output_type": "error",
          "ename": "KeyboardInterrupt",
          "evalue": "ignored",
          "traceback": [
            "\u001b[0;31m---------------------------------------------------------------------------\u001b[0m",
            "\u001b[0;31mKeyboardInterrupt\u001b[0m                         Traceback (most recent call last)",
            "\u001b[0;32m<ipython-input-43-4c376b5dff6d>\u001b[0m in \u001b[0;36m<module>\u001b[0;34m()\u001b[0m\n\u001b[1;32m     15\u001b[0m \u001b[0mrandomized_mse\u001b[0m \u001b[0;34m=\u001b[0m \u001b[0mRandomizedSearchCV\u001b[0m\u001b[0;34m(\u001b[0m\u001b[0mestimator\u001b[0m\u001b[0;34m=\u001b[0m\u001b[0mxgb\u001b[0m\u001b[0;34m,\u001b[0m\u001b[0mparam_distributions\u001b[0m\u001b[0;34m=\u001b[0m\u001b[0mgrid\u001b[0m\u001b[0;34m,\u001b[0m\u001b[0mscoring\u001b[0m\u001b[0;34m=\u001b[0m\u001b[0;34m'neg_mean_squared_error'\u001b[0m\u001b[0;34m,\u001b[0m\u001b[0mcv\u001b[0m\u001b[0;34m=\u001b[0m\u001b[0;36m4\u001b[0m\u001b[0;34m,\u001b[0m\u001b[0mverbose\u001b[0m\u001b[0;34m=\u001b[0m\u001b[0;36m3\u001b[0m\u001b[0;34m,\u001b[0m\u001b[0mn_jobs\u001b[0m\u001b[0;34m=\u001b[0m\u001b[0;34m-\u001b[0m\u001b[0;36m1\u001b[0m\u001b[0;34m)\u001b[0m\u001b[0;34m\u001b[0m\u001b[0;34m\u001b[0m\u001b[0m\n\u001b[1;32m     16\u001b[0m \u001b[0;34m\u001b[0m\u001b[0m\n\u001b[0;32m---> 17\u001b[0;31m \u001b[0mrandomized_mse\u001b[0m\u001b[0;34m.\u001b[0m\u001b[0mfit\u001b[0m\u001b[0;34m(\u001b[0m\u001b[0mX_train\u001b[0m\u001b[0;34m.\u001b[0m\u001b[0mvalues\u001b[0m\u001b[0;34m,\u001b[0m\u001b[0my_train\u001b[0m\u001b[0;34m.\u001b[0m\u001b[0mvalues\u001b[0m\u001b[0;34m.\u001b[0m\u001b[0mravel\u001b[0m\u001b[0;34m(\u001b[0m\u001b[0;34m)\u001b[0m\u001b[0;34m)\u001b[0m\u001b[0;34m\u001b[0m\u001b[0;34m\u001b[0m\u001b[0m\n\u001b[0m\u001b[1;32m     18\u001b[0m \u001b[0;34m\u001b[0m\u001b[0m\n\u001b[1;32m     19\u001b[0m \u001b[0mrmse\u001b[0m\u001b[0;34m=\u001b[0m\u001b[0;34m(\u001b[0m\u001b[0mrandomized_mse\u001b[0m\u001b[0;34m.\u001b[0m\u001b[0mbest_score_\u001b[0m\u001b[0;34m*\u001b[0m\u001b[0;34m-\u001b[0m\u001b[0;36m1\u001b[0m\u001b[0;34m)\u001b[0m\u001b[0;34m**\u001b[0m\u001b[0;36m0.5\u001b[0m\u001b[0;34m\u001b[0m\u001b[0;34m\u001b[0m\u001b[0m\n",
            "\u001b[0;32m/usr/local/lib/python3.7/dist-packages/sklearn/model_selection/_search.py\u001b[0m in \u001b[0;36mfit\u001b[0;34m(self, X, y, groups, **fit_params)\u001b[0m\n\u001b[1;32m    708\u001b[0m                 \u001b[0;32mreturn\u001b[0m \u001b[0mresults\u001b[0m\u001b[0;34m\u001b[0m\u001b[0;34m\u001b[0m\u001b[0m\n\u001b[1;32m    709\u001b[0m \u001b[0;34m\u001b[0m\u001b[0m\n\u001b[0;32m--> 710\u001b[0;31m             \u001b[0mself\u001b[0m\u001b[0;34m.\u001b[0m\u001b[0m_run_search\u001b[0m\u001b[0;34m(\u001b[0m\u001b[0mevaluate_candidates\u001b[0m\u001b[0;34m)\u001b[0m\u001b[0;34m\u001b[0m\u001b[0;34m\u001b[0m\u001b[0m\n\u001b[0m\u001b[1;32m    711\u001b[0m \u001b[0;34m\u001b[0m\u001b[0m\n\u001b[1;32m    712\u001b[0m         \u001b[0;31m# For multi-metric evaluation, store the best_index_, best_params_ and\u001b[0m\u001b[0;34m\u001b[0m\u001b[0;34m\u001b[0m\u001b[0;34m\u001b[0m\u001b[0m\n",
            "\u001b[0;32m/usr/local/lib/python3.7/dist-packages/sklearn/model_selection/_search.py\u001b[0m in \u001b[0;36m_run_search\u001b[0;34m(self, evaluate_candidates)\u001b[0m\n\u001b[1;32m   1482\u001b[0m         evaluate_candidates(ParameterSampler(\n\u001b[1;32m   1483\u001b[0m             \u001b[0mself\u001b[0m\u001b[0;34m.\u001b[0m\u001b[0mparam_distributions\u001b[0m\u001b[0;34m,\u001b[0m \u001b[0mself\u001b[0m\u001b[0;34m.\u001b[0m\u001b[0mn_iter\u001b[0m\u001b[0;34m,\u001b[0m\u001b[0;34m\u001b[0m\u001b[0;34m\u001b[0m\u001b[0m\n\u001b[0;32m-> 1484\u001b[0;31m             random_state=self.random_state))\n\u001b[0m",
            "\u001b[0;32m/usr/local/lib/python3.7/dist-packages/sklearn/model_selection/_search.py\u001b[0m in \u001b[0;36mevaluate_candidates\u001b[0;34m(candidate_params)\u001b[0m\n\u001b[1;32m    687\u001b[0m                                \u001b[0;32mfor\u001b[0m \u001b[0mparameters\u001b[0m\u001b[0;34m,\u001b[0m \u001b[0;34m(\u001b[0m\u001b[0mtrain\u001b[0m\u001b[0;34m,\u001b[0m \u001b[0mtest\u001b[0m\u001b[0;34m)\u001b[0m\u001b[0;34m\u001b[0m\u001b[0;34m\u001b[0m\u001b[0m\n\u001b[1;32m    688\u001b[0m                                in product(candidate_params,\n\u001b[0;32m--> 689\u001b[0;31m                                           cv.split(X, y, groups)))\n\u001b[0m\u001b[1;32m    690\u001b[0m \u001b[0;34m\u001b[0m\u001b[0m\n\u001b[1;32m    691\u001b[0m                 \u001b[0;32mif\u001b[0m \u001b[0mlen\u001b[0m\u001b[0;34m(\u001b[0m\u001b[0mout\u001b[0m\u001b[0;34m)\u001b[0m \u001b[0;34m<\u001b[0m \u001b[0;36m1\u001b[0m\u001b[0;34m:\u001b[0m\u001b[0;34m\u001b[0m\u001b[0;34m\u001b[0m\u001b[0m\n",
            "\u001b[0;32m/usr/local/lib/python3.7/dist-packages/joblib/parallel.py\u001b[0m in \u001b[0;36m__call__\u001b[0;34m(self, iterable)\u001b[0m\n\u001b[1;32m   1052\u001b[0m \u001b[0;34m\u001b[0m\u001b[0m\n\u001b[1;32m   1053\u001b[0m             \u001b[0;32mwith\u001b[0m \u001b[0mself\u001b[0m\u001b[0;34m.\u001b[0m\u001b[0m_backend\u001b[0m\u001b[0;34m.\u001b[0m\u001b[0mretrieval_context\u001b[0m\u001b[0;34m(\u001b[0m\u001b[0;34m)\u001b[0m\u001b[0;34m:\u001b[0m\u001b[0;34m\u001b[0m\u001b[0;34m\u001b[0m\u001b[0m\n\u001b[0;32m-> 1054\u001b[0;31m                 \u001b[0mself\u001b[0m\u001b[0;34m.\u001b[0m\u001b[0mretrieve\u001b[0m\u001b[0;34m(\u001b[0m\u001b[0;34m)\u001b[0m\u001b[0;34m\u001b[0m\u001b[0;34m\u001b[0m\u001b[0m\n\u001b[0m\u001b[1;32m   1055\u001b[0m             \u001b[0;31m# Make sure that we get a last message telling us we are done\u001b[0m\u001b[0;34m\u001b[0m\u001b[0;34m\u001b[0m\u001b[0;34m\u001b[0m\u001b[0m\n\u001b[1;32m   1056\u001b[0m             \u001b[0melapsed_time\u001b[0m \u001b[0;34m=\u001b[0m \u001b[0mtime\u001b[0m\u001b[0;34m.\u001b[0m\u001b[0mtime\u001b[0m\u001b[0;34m(\u001b[0m\u001b[0;34m)\u001b[0m \u001b[0;34m-\u001b[0m \u001b[0mself\u001b[0m\u001b[0;34m.\u001b[0m\u001b[0m_start_time\u001b[0m\u001b[0;34m\u001b[0m\u001b[0;34m\u001b[0m\u001b[0m\n",
            "\u001b[0;32m/usr/local/lib/python3.7/dist-packages/joblib/parallel.py\u001b[0m in \u001b[0;36mretrieve\u001b[0;34m(self)\u001b[0m\n\u001b[1;32m    931\u001b[0m             \u001b[0;32mtry\u001b[0m\u001b[0;34m:\u001b[0m\u001b[0;34m\u001b[0m\u001b[0;34m\u001b[0m\u001b[0m\n\u001b[1;32m    932\u001b[0m                 \u001b[0;32mif\u001b[0m \u001b[0mgetattr\u001b[0m\u001b[0;34m(\u001b[0m\u001b[0mself\u001b[0m\u001b[0;34m.\u001b[0m\u001b[0m_backend\u001b[0m\u001b[0;34m,\u001b[0m \u001b[0;34m'supports_timeout'\u001b[0m\u001b[0;34m,\u001b[0m \u001b[0;32mFalse\u001b[0m\u001b[0;34m)\u001b[0m\u001b[0;34m:\u001b[0m\u001b[0;34m\u001b[0m\u001b[0;34m\u001b[0m\u001b[0m\n\u001b[0;32m--> 933\u001b[0;31m                     \u001b[0mself\u001b[0m\u001b[0;34m.\u001b[0m\u001b[0m_output\u001b[0m\u001b[0;34m.\u001b[0m\u001b[0mextend\u001b[0m\u001b[0;34m(\u001b[0m\u001b[0mjob\u001b[0m\u001b[0;34m.\u001b[0m\u001b[0mget\u001b[0m\u001b[0;34m(\u001b[0m\u001b[0mtimeout\u001b[0m\u001b[0;34m=\u001b[0m\u001b[0mself\u001b[0m\u001b[0;34m.\u001b[0m\u001b[0mtimeout\u001b[0m\u001b[0;34m)\u001b[0m\u001b[0;34m)\u001b[0m\u001b[0;34m\u001b[0m\u001b[0;34m\u001b[0m\u001b[0m\n\u001b[0m\u001b[1;32m    934\u001b[0m                 \u001b[0;32melse\u001b[0m\u001b[0;34m:\u001b[0m\u001b[0;34m\u001b[0m\u001b[0;34m\u001b[0m\u001b[0m\n\u001b[1;32m    935\u001b[0m                     \u001b[0mself\u001b[0m\u001b[0;34m.\u001b[0m\u001b[0m_output\u001b[0m\u001b[0;34m.\u001b[0m\u001b[0mextend\u001b[0m\u001b[0;34m(\u001b[0m\u001b[0mjob\u001b[0m\u001b[0;34m.\u001b[0m\u001b[0mget\u001b[0m\u001b[0;34m(\u001b[0m\u001b[0;34m)\u001b[0m\u001b[0;34m)\u001b[0m\u001b[0;34m\u001b[0m\u001b[0;34m\u001b[0m\u001b[0m\n",
            "\u001b[0;32m/usr/local/lib/python3.7/dist-packages/joblib/_parallel_backends.py\u001b[0m in \u001b[0;36mwrap_future_result\u001b[0;34m(future, timeout)\u001b[0m\n\u001b[1;32m    540\u001b[0m         AsyncResults.get from multiprocessing.\"\"\"\n\u001b[1;32m    541\u001b[0m         \u001b[0;32mtry\u001b[0m\u001b[0;34m:\u001b[0m\u001b[0;34m\u001b[0m\u001b[0;34m\u001b[0m\u001b[0m\n\u001b[0;32m--> 542\u001b[0;31m             \u001b[0;32mreturn\u001b[0m \u001b[0mfuture\u001b[0m\u001b[0;34m.\u001b[0m\u001b[0mresult\u001b[0m\u001b[0;34m(\u001b[0m\u001b[0mtimeout\u001b[0m\u001b[0;34m=\u001b[0m\u001b[0mtimeout\u001b[0m\u001b[0;34m)\u001b[0m\u001b[0;34m\u001b[0m\u001b[0;34m\u001b[0m\u001b[0m\n\u001b[0m\u001b[1;32m    543\u001b[0m         \u001b[0;32mexcept\u001b[0m \u001b[0mCfTimeoutError\u001b[0m \u001b[0;32mas\u001b[0m \u001b[0me\u001b[0m\u001b[0;34m:\u001b[0m\u001b[0;34m\u001b[0m\u001b[0;34m\u001b[0m\u001b[0m\n\u001b[1;32m    544\u001b[0m             \u001b[0;32mraise\u001b[0m \u001b[0mTimeoutError\u001b[0m \u001b[0;32mfrom\u001b[0m \u001b[0me\u001b[0m\u001b[0;34m\u001b[0m\u001b[0;34m\u001b[0m\u001b[0m\n",
            "\u001b[0;32m/usr/lib/python3.7/concurrent/futures/_base.py\u001b[0m in \u001b[0;36mresult\u001b[0;34m(self, timeout)\u001b[0m\n\u001b[1;32m    428\u001b[0m                 \u001b[0;32mreturn\u001b[0m \u001b[0mself\u001b[0m\u001b[0;34m.\u001b[0m\u001b[0m__get_result\u001b[0m\u001b[0;34m(\u001b[0m\u001b[0;34m)\u001b[0m\u001b[0;34m\u001b[0m\u001b[0;34m\u001b[0m\u001b[0m\n\u001b[1;32m    429\u001b[0m \u001b[0;34m\u001b[0m\u001b[0m\n\u001b[0;32m--> 430\u001b[0;31m             \u001b[0mself\u001b[0m\u001b[0;34m.\u001b[0m\u001b[0m_condition\u001b[0m\u001b[0;34m.\u001b[0m\u001b[0mwait\u001b[0m\u001b[0;34m(\u001b[0m\u001b[0mtimeout\u001b[0m\u001b[0;34m)\u001b[0m\u001b[0;34m\u001b[0m\u001b[0;34m\u001b[0m\u001b[0m\n\u001b[0m\u001b[1;32m    431\u001b[0m \u001b[0;34m\u001b[0m\u001b[0m\n\u001b[1;32m    432\u001b[0m             \u001b[0;32mif\u001b[0m \u001b[0mself\u001b[0m\u001b[0;34m.\u001b[0m\u001b[0m_state\u001b[0m \u001b[0;32min\u001b[0m \u001b[0;34m[\u001b[0m\u001b[0mCANCELLED\u001b[0m\u001b[0;34m,\u001b[0m \u001b[0mCANCELLED_AND_NOTIFIED\u001b[0m\u001b[0;34m]\u001b[0m\u001b[0;34m:\u001b[0m\u001b[0;34m\u001b[0m\u001b[0;34m\u001b[0m\u001b[0m\n",
            "\u001b[0;32m/usr/lib/python3.7/threading.py\u001b[0m in \u001b[0;36mwait\u001b[0;34m(self, timeout)\u001b[0m\n\u001b[1;32m    294\u001b[0m         \u001b[0;32mtry\u001b[0m\u001b[0;34m:\u001b[0m    \u001b[0;31m# restore state no matter what (e.g., KeyboardInterrupt)\u001b[0m\u001b[0;34m\u001b[0m\u001b[0;34m\u001b[0m\u001b[0m\n\u001b[1;32m    295\u001b[0m             \u001b[0;32mif\u001b[0m \u001b[0mtimeout\u001b[0m \u001b[0;32mis\u001b[0m \u001b[0;32mNone\u001b[0m\u001b[0;34m:\u001b[0m\u001b[0;34m\u001b[0m\u001b[0;34m\u001b[0m\u001b[0m\n\u001b[0;32m--> 296\u001b[0;31m                 \u001b[0mwaiter\u001b[0m\u001b[0;34m.\u001b[0m\u001b[0macquire\u001b[0m\u001b[0;34m(\u001b[0m\u001b[0;34m)\u001b[0m\u001b[0;34m\u001b[0m\u001b[0;34m\u001b[0m\u001b[0m\n\u001b[0m\u001b[1;32m    297\u001b[0m                 \u001b[0mgotit\u001b[0m \u001b[0;34m=\u001b[0m \u001b[0;32mTrue\u001b[0m\u001b[0;34m\u001b[0m\u001b[0;34m\u001b[0m\u001b[0m\n\u001b[1;32m    298\u001b[0m             \u001b[0;32melse\u001b[0m\u001b[0;34m:\u001b[0m\u001b[0;34m\u001b[0m\u001b[0;34m\u001b[0m\u001b[0m\n",
            "\u001b[0;31mKeyboardInterrupt\u001b[0m: "
          ]
        }
      ]
    },
    {
      "cell_type": "code",
      "metadata": {
        "id": "46RiM2mj_qnN"
      },
      "source": [
        "cv_xgb=randomized_mse.best_estimator_"
      ],
      "id": "46RiM2mj_qnN",
      "execution_count": null,
      "outputs": []
    },
    {
      "cell_type": "code",
      "metadata": {
        "colab": {
          "base_uri": "https://localhost:8080/"
        },
        "id": "potential-actor",
        "outputId": "dc57212f-ac26-43ea-c17c-034665f06970"
      },
      "source": [
        "# Apply gridsearch to Random Forest\n",
        "\n",
        "from sklearn.model_selection import RandomizedSearchCV\n",
        "\n",
        "rf=RandomForestRegressor(random_state=123)\n",
        "\n",
        "# Number of trees in random forest\n",
        "n_estimators = [int(x) for x in np.linspace(start = 200, stop = 2000, num = 10)]\n",
        "# Number of features to consider at every split\n",
        "max_features = ['auto', 'sqrt']\n",
        "# Maximum number of levels in tree\n",
        "max_depth = [int(x) for x in np.linspace(4, 15, num = 8)]\n",
        "max_depth.append(None)\n",
        "# Minimum number of samples required to split a node\n",
        "min_samples_split = [2, 5, 10]\n",
        "# Minimum number of samples required at each leaf node\n",
        "min_samples_leaf = [1, 2, 4]\n",
        "# Method of selecting samples for training each tree\n",
        "bootstrap = [True, False]\n",
        "\n",
        "# Create the random grid\n",
        "\n",
        "grid = {'n_estimators': n_estimators,\n",
        "               'max_features': max_features,\n",
        "               'max_depth': max_depth,'min_samples_split': min_samples_split,\n",
        "               'min_samples_leaf': min_samples_leaf,\n",
        "               'bootstrap': bootstrap\n",
        "               }\n",
        "\n",
        "randomized_mse_rf = RandomizedSearchCV(estimator=rf,param_distributions=grid,scoring='neg_mean_squared_error',cv=4,verbose=1,)\n",
        "\n",
        "randomized_mse_rf.fit(X_train.values,y_train.values.ravel())\n",
        "\n",
        "rmse=(randomized_mse_rf.best_score_*-1)**0.5\n",
        "\n",
        "print('Best RMSE: ',rmse)"
      ],
      "id": "potential-actor",
      "execution_count": null,
      "outputs": [
        {
          "output_type": "stream",
          "text": [
            "Fitting 4 folds for each of 10 candidates, totalling 40 fits\n",
            "[CV] n_estimators=2000, min_samples_split=2, min_samples_leaf=4, max_features=auto, max_depth=4, bootstrap=False \n"
          ],
          "name": "stdout"
        },
        {
          "output_type": "stream",
          "text": [
            "[Parallel(n_jobs=1)]: Using backend SequentialBackend with 1 concurrent workers.\n"
          ],
          "name": "stderr"
        },
        {
          "output_type": "stream",
          "text": [
            "[CV]  n_estimators=2000, min_samples_split=2, min_samples_leaf=4, max_features=auto, max_depth=4, bootstrap=False, score=-18451.632, total=11.0min\n",
            "[CV] n_estimators=2000, min_samples_split=2, min_samples_leaf=4, max_features=auto, max_depth=4, bootstrap=False \n"
          ],
          "name": "stdout"
        },
        {
          "output_type": "stream",
          "text": [
            "[Parallel(n_jobs=1)]: Done   1 out of   1 | elapsed: 11.0min remaining:    0.0s\n"
          ],
          "name": "stderr"
        },
        {
          "output_type": "stream",
          "text": [
            "[CV]  n_estimators=2000, min_samples_split=2, min_samples_leaf=4, max_features=auto, max_depth=4, bootstrap=False, score=-12844.458, total=11.9min\n",
            "[CV] n_estimators=2000, min_samples_split=2, min_samples_leaf=4, max_features=auto, max_depth=4, bootstrap=False \n"
          ],
          "name": "stdout"
        },
        {
          "output_type": "stream",
          "text": [
            "[Parallel(n_jobs=1)]: Done   2 out of   2 | elapsed: 22.8min remaining:    0.0s\n"
          ],
          "name": "stderr"
        },
        {
          "output_type": "stream",
          "text": [
            "[CV]  n_estimators=2000, min_samples_split=2, min_samples_leaf=4, max_features=auto, max_depth=4, bootstrap=False, score=-13034.810, total=11.8min\n",
            "[CV] n_estimators=2000, min_samples_split=2, min_samples_leaf=4, max_features=auto, max_depth=4, bootstrap=False \n"
          ],
          "name": "stdout"
        },
        {
          "output_type": "stream",
          "text": [
            "[Parallel(n_jobs=1)]: Done   3 out of   3 | elapsed: 34.6min remaining:    0.0s\n"
          ],
          "name": "stderr"
        },
        {
          "output_type": "stream",
          "text": [
            "[CV]  n_estimators=2000, min_samples_split=2, min_samples_leaf=4, max_features=auto, max_depth=4, bootstrap=False, score=-18066.938, total=11.8min\n",
            "[CV] n_estimators=1800, min_samples_split=2, min_samples_leaf=1, max_features=auto, max_depth=7, bootstrap=True \n"
          ],
          "name": "stdout"
        },
        {
          "output_type": "stream",
          "text": [
            "[Parallel(n_jobs=1)]: Done   4 out of   4 | elapsed: 46.4min remaining:    0.0s\n"
          ],
          "name": "stderr"
        },
        {
          "output_type": "stream",
          "text": [
            "[CV]  n_estimators=1800, min_samples_split=2, min_samples_leaf=1, max_features=auto, max_depth=7, bootstrap=True, score=-12355.964, total= 8.2min\n",
            "[CV] n_estimators=1800, min_samples_split=2, min_samples_leaf=1, max_features=auto, max_depth=7, bootstrap=True \n",
            "[CV]  n_estimators=1800, min_samples_split=2, min_samples_leaf=1, max_features=auto, max_depth=7, bootstrap=True, score=-7111.889, total= 8.4min\n",
            "[CV] n_estimators=1800, min_samples_split=2, min_samples_leaf=1, max_features=auto, max_depth=7, bootstrap=True \n",
            "[CV]  n_estimators=1800, min_samples_split=2, min_samples_leaf=1, max_features=auto, max_depth=7, bootstrap=True, score=-7445.907, total= 8.1min\n",
            "[CV] n_estimators=1800, min_samples_split=2, min_samples_leaf=1, max_features=auto, max_depth=7, bootstrap=True \n",
            "[CV]  n_estimators=1800, min_samples_split=2, min_samples_leaf=1, max_features=auto, max_depth=7, bootstrap=True, score=-11813.028, total= 7.9min\n",
            "[CV] n_estimators=1200, min_samples_split=2, min_samples_leaf=2, max_features=auto, max_depth=15, bootstrap=True \n",
            "[CV]  n_estimators=1200, min_samples_split=2, min_samples_leaf=2, max_features=auto, max_depth=15, bootstrap=True, score=-9423.493, total= 8.1min\n",
            "[CV] n_estimators=1200, min_samples_split=2, min_samples_leaf=2, max_features=auto, max_depth=15, bootstrap=True \n",
            "[CV]  n_estimators=1200, min_samples_split=2, min_samples_leaf=2, max_features=auto, max_depth=15, bootstrap=True, score=-5727.702, total= 8.2min\n",
            "[CV] n_estimators=1200, min_samples_split=2, min_samples_leaf=2, max_features=auto, max_depth=15, bootstrap=True \n",
            "[CV]  n_estimators=1200, min_samples_split=2, min_samples_leaf=2, max_features=auto, max_depth=15, bootstrap=True, score=-5444.287, total= 8.7min\n",
            "[CV] n_estimators=1200, min_samples_split=2, min_samples_leaf=2, max_features=auto, max_depth=15, bootstrap=True \n",
            "[CV]  n_estimators=1200, min_samples_split=2, min_samples_leaf=2, max_features=auto, max_depth=15, bootstrap=True, score=-8627.648, total=10.6min\n",
            "[CV] n_estimators=1000, min_samples_split=2, min_samples_leaf=4, max_features=auto, max_depth=8, bootstrap=False \n",
            "[CV]  n_estimators=1000, min_samples_split=2, min_samples_leaf=4, max_features=auto, max_depth=8, bootstrap=False, score=-11644.603, total= 9.7min\n",
            "[CV] n_estimators=1000, min_samples_split=2, min_samples_leaf=4, max_features=auto, max_depth=8, bootstrap=False \n",
            "[CV]  n_estimators=1000, min_samples_split=2, min_samples_leaf=4, max_features=auto, max_depth=8, bootstrap=False, score=-8589.402, total= 8.6min\n",
            "[CV] n_estimators=1000, min_samples_split=2, min_samples_leaf=4, max_features=auto, max_depth=8, bootstrap=False \n",
            "[CV]  n_estimators=1000, min_samples_split=2, min_samples_leaf=4, max_features=auto, max_depth=8, bootstrap=False, score=-7108.928, total= 8.4min\n",
            "[CV] n_estimators=1000, min_samples_split=2, min_samples_leaf=4, max_features=auto, max_depth=8, bootstrap=False \n",
            "[CV]  n_estimators=1000, min_samples_split=2, min_samples_leaf=4, max_features=auto, max_depth=8, bootstrap=False, score=-10705.227, total= 8.7min\n",
            "[CV] n_estimators=2000, min_samples_split=2, min_samples_leaf=2, max_features=auto, max_depth=10, bootstrap=False \n",
            "[CV]  n_estimators=2000, min_samples_split=2, min_samples_leaf=2, max_features=auto, max_depth=10, bootstrap=False, score=-10227.348, total=20.0min\n",
            "[CV] n_estimators=2000, min_samples_split=2, min_samples_leaf=2, max_features=auto, max_depth=10, bootstrap=False \n",
            "[CV]  n_estimators=2000, min_samples_split=2, min_samples_leaf=2, max_features=auto, max_depth=10, bootstrap=False, score=-6731.989, total=19.3min\n",
            "[CV] n_estimators=2000, min_samples_split=2, min_samples_leaf=2, max_features=auto, max_depth=10, bootstrap=False \n",
            "[CV]  n_estimators=2000, min_samples_split=2, min_samples_leaf=2, max_features=auto, max_depth=10, bootstrap=False, score=-6407.326, total=19.2min\n",
            "[CV] n_estimators=2000, min_samples_split=2, min_samples_leaf=2, max_features=auto, max_depth=10, bootstrap=False \n",
            "[CV]  n_estimators=2000, min_samples_split=2, min_samples_leaf=2, max_features=auto, max_depth=10, bootstrap=False, score=-9927.289, total=19.6min\n",
            "[CV] n_estimators=400, min_samples_split=2, min_samples_leaf=1, max_features=auto, max_depth=10, bootstrap=True \n",
            "[CV]  n_estimators=400, min_samples_split=2, min_samples_leaf=1, max_features=auto, max_depth=10, bootstrap=True, score=-10694.582, total= 2.3min\n",
            "[CV] n_estimators=400, min_samples_split=2, min_samples_leaf=1, max_features=auto, max_depth=10, bootstrap=True \n",
            "[CV]  n_estimators=400, min_samples_split=2, min_samples_leaf=1, max_features=auto, max_depth=10, bootstrap=True, score=-5576.264, total= 2.3min\n",
            "[CV] n_estimators=400, min_samples_split=2, min_samples_leaf=1, max_features=auto, max_depth=10, bootstrap=True \n",
            "[CV]  n_estimators=400, min_samples_split=2, min_samples_leaf=1, max_features=auto, max_depth=10, bootstrap=True, score=-5859.471, total= 2.3min\n",
            "[CV] n_estimators=400, min_samples_split=2, min_samples_leaf=1, max_features=auto, max_depth=10, bootstrap=True \n",
            "[CV]  n_estimators=400, min_samples_split=2, min_samples_leaf=1, max_features=auto, max_depth=10, bootstrap=True, score=-10261.312, total= 2.6min\n",
            "[CV] n_estimators=400, min_samples_split=2, min_samples_leaf=1, max_features=sqrt, max_depth=10, bootstrap=False \n",
            "[CV]  n_estimators=400, min_samples_split=2, min_samples_leaf=1, max_features=sqrt, max_depth=10, bootstrap=False, score=-64372.365, total=  33.2s\n",
            "[CV] n_estimators=400, min_samples_split=2, min_samples_leaf=1, max_features=sqrt, max_depth=10, bootstrap=False \n",
            "[CV]  n_estimators=400, min_samples_split=2, min_samples_leaf=1, max_features=sqrt, max_depth=10, bootstrap=False, score=-47304.909, total=  33.4s\n",
            "[CV] n_estimators=400, min_samples_split=2, min_samples_leaf=1, max_features=sqrt, max_depth=10, bootstrap=False \n",
            "[CV]  n_estimators=400, min_samples_split=2, min_samples_leaf=1, max_features=sqrt, max_depth=10, bootstrap=False, score=-53467.864, total=  33.3s\n",
            "[CV] n_estimators=400, min_samples_split=2, min_samples_leaf=1, max_features=sqrt, max_depth=10, bootstrap=False \n",
            "[CV]  n_estimators=400, min_samples_split=2, min_samples_leaf=1, max_features=sqrt, max_depth=10, bootstrap=False, score=-64083.839, total=  33.3s\n",
            "[CV] n_estimators=200, min_samples_split=10, min_samples_leaf=4, max_features=auto, max_depth=None, bootstrap=True \n",
            "[CV]  n_estimators=200, min_samples_split=10, min_samples_leaf=4, max_features=auto, max_depth=None, bootstrap=True, score=-10449.039, total= 1.5min\n",
            "[CV] n_estimators=200, min_samples_split=10, min_samples_leaf=4, max_features=auto, max_depth=None, bootstrap=True \n",
            "[CV]  n_estimators=200, min_samples_split=10, min_samples_leaf=4, max_features=auto, max_depth=None, bootstrap=True, score=-7611.545, total= 1.5min\n",
            "[CV] n_estimators=200, min_samples_split=10, min_samples_leaf=4, max_features=auto, max_depth=None, bootstrap=True \n",
            "[CV]  n_estimators=200, min_samples_split=10, min_samples_leaf=4, max_features=auto, max_depth=None, bootstrap=True, score=-6046.819, total= 1.5min\n",
            "[CV] n_estimators=200, min_samples_split=10, min_samples_leaf=4, max_features=auto, max_depth=None, bootstrap=True \n",
            "[CV]  n_estimators=200, min_samples_split=10, min_samples_leaf=4, max_features=auto, max_depth=None, bootstrap=True, score=-9542.995, total= 1.4min\n",
            "[CV] n_estimators=800, min_samples_split=2, min_samples_leaf=2, max_features=sqrt, max_depth=8, bootstrap=True \n",
            "[CV]  n_estimators=800, min_samples_split=2, min_samples_leaf=2, max_features=sqrt, max_depth=8, bootstrap=True, score=-78282.348, total=  31.9s\n",
            "[CV] n_estimators=800, min_samples_split=2, min_samples_leaf=2, max_features=sqrt, max_depth=8, bootstrap=True \n",
            "[CV]  n_estimators=800, min_samples_split=2, min_samples_leaf=2, max_features=sqrt, max_depth=8, bootstrap=True, score=-57787.070, total=  31.8s\n",
            "[CV] n_estimators=800, min_samples_split=2, min_samples_leaf=2, max_features=sqrt, max_depth=8, bootstrap=True \n",
            "[CV]  n_estimators=800, min_samples_split=2, min_samples_leaf=2, max_features=sqrt, max_depth=8, bootstrap=True, score=-65610.694, total=  33.3s\n",
            "[CV] n_estimators=800, min_samples_split=2, min_samples_leaf=2, max_features=sqrt, max_depth=8, bootstrap=True \n",
            "[CV]  n_estimators=800, min_samples_split=2, min_samples_leaf=2, max_features=sqrt, max_depth=8, bootstrap=True, score=-75224.180, total=  33.7s\n",
            "[CV] n_estimators=1800, min_samples_split=10, min_samples_leaf=4, max_features=auto, max_depth=13, bootstrap=True \n",
            "[CV]  n_estimators=1800, min_samples_split=10, min_samples_leaf=4, max_features=auto, max_depth=13, bootstrap=True, score=-10614.019, total=11.5min\n",
            "[CV] n_estimators=1800, min_samples_split=10, min_samples_leaf=4, max_features=auto, max_depth=13, bootstrap=True \n"
          ],
          "name": "stdout"
        }
      ]
    },
    {
      "cell_type": "code",
      "metadata": {
        "id": "3veOYxF_402i"
      },
      "source": [
        "cv_rf=randomized_mse_rf.best_estimator_"
      ],
      "id": "3veOYxF_402i",
      "execution_count": null,
      "outputs": []
    },
    {
      "cell_type": "code",
      "metadata": {
        "id": "nU1QdBtBAch9"
      },
      "source": [],
      "id": "nU1QdBtBAch9",
      "execution_count": null,
      "outputs": []
    },
    {
      "cell_type": "code",
      "metadata": {
        "id": "vdj6pFzZAcot"
      },
      "source": [],
      "id": "vdj6pFzZAcot",
      "execution_count": null,
      "outputs": []
    },
    {
      "cell_type": "code",
      "metadata": {
        "id": "ZAaHug6ZAcqu"
      },
      "source": [],
      "id": "ZAaHug6ZAcqu",
      "execution_count": null,
      "outputs": []
    },
    {
      "cell_type": "code",
      "metadata": {
        "id": "49Shsyh5Actj"
      },
      "source": [],
      "id": "49Shsyh5Actj",
      "execution_count": null,
      "outputs": []
    },
    {
      "cell_type": "code",
      "metadata": {
        "id": "T74-HxjmAcvd"
      },
      "source": [],
      "id": "T74-HxjmAcvd",
      "execution_count": null,
      "outputs": []
    },
    {
      "cell_type": "code",
      "metadata": {
        "id": "NNnd5NQzAczd"
      },
      "source": [],
      "id": "NNnd5NQzAczd",
      "execution_count": null,
      "outputs": []
    },
    {
      "cell_type": "code",
      "metadata": {
        "id": "IL6cv_pmh_lk"
      },
      "source": [
        "rf=RandomForestRegressor(random_state=123,n_estimators= 1200,\n",
        "               max_features= 'auto',\n",
        "               max_depth= 15,min_samples_split= 2,\n",
        "               min_samples_leaf= 2,\n",
        "               bootstrap= True)"
      ],
      "id": "IL6cv_pmh_lk",
      "execution_count": null,
      "outputs": []
    },
    {
      "cell_type": "code",
      "metadata": {
        "colab": {
          "background_save": true
        },
        "id": "CrUgYmzil0vX",
        "outputId": "927bdadd-9759-4283-e492-011b6e373d73"
      },
      "source": [
        "# Fitting the best model\n",
        "\n",
        "rf.fit(X_train.values,y_train.values.ravel())"
      ],
      "id": "CrUgYmzil0vX",
      "execution_count": null,
      "outputs": [
        {
          "output_type": "execute_result",
          "data": {
            "text/plain": [
              "RandomForestRegressor(bootstrap=True, ccp_alpha=0.0, criterion='mse',\n",
              "                      max_depth=15, max_features='auto', max_leaf_nodes=None,\n",
              "                      max_samples=None, min_impurity_decrease=0.0,\n",
              "                      min_impurity_split=None, min_samples_leaf=2,\n",
              "                      min_samples_split=2, min_weight_fraction_leaf=0.0,\n",
              "                      n_estimators=1200, n_jobs=None, oob_score=False,\n",
              "                      random_state=123, verbose=0, warm_start=False)"
            ]
          },
          "metadata": {
            "tags": []
          },
          "execution_count": 0
        }
      ]
    },
    {
      "cell_type": "code",
      "metadata": {
        "id": "hwPZyu_09n4J"
      },
      "source": [
        "y_pred=rf.predict(X_test)"
      ],
      "id": "hwPZyu_09n4J",
      "execution_count": null,
      "outputs": []
    },
    {
      "cell_type": "code",
      "metadata": {
        "colab": {
          "base_uri": "https://localhost:8080/"
        },
        "id": "V8Y6Fp9g92md",
        "outputId": "ec180417-d93f-421d-e076-e7fa1ac9540a"
      },
      "source": [],
      "id": "V8Y6Fp9g92md",
      "execution_count": null,
      "outputs": [
        {
          "output_type": "execute_result",
          "data": {
            "text/plain": [
              "196.89711340284634"
            ]
          },
          "metadata": {
            "tags": []
          },
          "execution_count": 39
        }
      ]
    },
    {
      "cell_type": "code",
      "metadata": {
        "id": "endangered-riding",
        "outputId": "2e8f0260-1a48-4e6c-e53e-6bac4afdf70b"
      },
      "source": [
        "print('XGBoost Root MSE: ',round(mse_cv_xgb.mean()**(1/2)))"
      ],
      "id": "endangered-riding",
      "execution_count": null,
      "outputs": [
        {
          "output_type": "stream",
          "text": [
            "XGBoost Root MSE:  155\n"
          ],
          "name": "stdout"
        }
      ]
    },
    {
      "cell_type": "code",
      "metadata": {
        "id": "brief-participation",
        "outputId": "e5c53ce9-33c5-4643-9567-4f011ca64681"
      },
      "source": [
        "nose=pd.DataFrame({'col1':['A','B','C','A','B','C','A'],'col2':[1,1,3,4,5,6,5],'col3':['A','B','E','A','F','C','A']})\n",
        "nose"
      ],
      "id": "brief-participation",
      "execution_count": null,
      "outputs": [
        {
          "output_type": "execute_result",
          "data": {
            "text/html": [
              "<div>\n",
              "<style scoped>\n",
              "    .dataframe tbody tr th:only-of-type {\n",
              "        vertical-align: middle;\n",
              "    }\n",
              "\n",
              "    .dataframe tbody tr th {\n",
              "        vertical-align: top;\n",
              "    }\n",
              "\n",
              "    .dataframe thead th {\n",
              "        text-align: right;\n",
              "    }\n",
              "</style>\n",
              "<table border=\"1\" class=\"dataframe\">\n",
              "  <thead>\n",
              "    <tr style=\"text-align: right;\">\n",
              "      <th></th>\n",
              "      <th>col1</th>\n",
              "      <th>col2</th>\n",
              "      <th>col3</th>\n",
              "    </tr>\n",
              "  </thead>\n",
              "  <tbody>\n",
              "    <tr>\n",
              "      <th>0</th>\n",
              "      <td>A</td>\n",
              "      <td>1</td>\n",
              "      <td>A</td>\n",
              "    </tr>\n",
              "    <tr>\n",
              "      <th>1</th>\n",
              "      <td>B</td>\n",
              "      <td>1</td>\n",
              "      <td>B</td>\n",
              "    </tr>\n",
              "    <tr>\n",
              "      <th>2</th>\n",
              "      <td>C</td>\n",
              "      <td>3</td>\n",
              "      <td>E</td>\n",
              "    </tr>\n",
              "    <tr>\n",
              "      <th>3</th>\n",
              "      <td>A</td>\n",
              "      <td>4</td>\n",
              "      <td>A</td>\n",
              "    </tr>\n",
              "    <tr>\n",
              "      <th>4</th>\n",
              "      <td>B</td>\n",
              "      <td>5</td>\n",
              "      <td>F</td>\n",
              "    </tr>\n",
              "    <tr>\n",
              "      <th>5</th>\n",
              "      <td>C</td>\n",
              "      <td>6</td>\n",
              "      <td>C</td>\n",
              "    </tr>\n",
              "    <tr>\n",
              "      <th>6</th>\n",
              "      <td>A</td>\n",
              "      <td>5</td>\n",
              "      <td>A</td>\n",
              "    </tr>\n",
              "  </tbody>\n",
              "</table>\n",
              "</div>"
            ],
            "text/plain": [
              "  col1  col2 col3\n",
              "0    A     1    A\n",
              "1    B     1    B\n",
              "2    C     3    E\n",
              "3    A     4    A\n",
              "4    B     5    F\n",
              "5    C     6    C\n",
              "6    A     5    A"
            ]
          },
          "metadata": {
            "tags": []
          },
          "execution_count": 57
        }
      ]
    }
  ]
}